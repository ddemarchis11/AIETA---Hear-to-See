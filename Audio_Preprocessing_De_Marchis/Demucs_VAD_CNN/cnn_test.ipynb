{
 "cells": [
  {
   "cell_type": "code",
   "execution_count": 3,
   "metadata": {},
   "outputs": [
    {
     "name": "stderr",
     "output_type": "stream",
     "text": [
      "WARNING:absl:Compiled the loaded model, but the compiled metrics have yet to be built. `model.compile_metrics` will be empty until you train or evaluate the model.\n"
     ]
    },
    {
     "name": "stdout",
     "output_type": "stream",
     "text": [
      "✅ Modello caricato\n",
      "\n",
      "Risultati:\n",
      "• music_pure.wav            →  MUSIC  (noisy 0.000 | music 1.000)\n",
      "• noise_pure.wav            →  NOISY  (noisy 1.000 | music 0.000)\n",
      "• voice_base_music.wav      →  MUSIC  (noisy 0.000 | music 1.000)\n",
      "• voice_base_noise.wav      →  NOISY  (noisy 0.945 | music 0.055)\n",
      "• voice_base_pure.wav       →  MUSIC  (noisy 0.000 | music 1.000)\n"
     ]
    }
   ],
   "source": [
    "import os\n",
    "import glob\n",
    "import numpy as np\n",
    "import tensorflow as tf\n",
    "from tensorflow.keras.models import load_model\n",
    "import librosa\n",
    "\n",
    "# ─── parametri già definiti prima ───────────────────────────────────────────\n",
    "MODEL_PATH   = \"cnn_network.h5\"\n",
    "AUDIO_FOLDER = \"audio_test\"                 # <-- tua cartella con 5 file\n",
    "CLASS_NAMES  = [\"noisy\", \"music\"]           # stesso ordine di addestramento\n",
    "# ────────────────────────────────────────────────────────────────────────────\n",
    "\n",
    "# 1) Carica il modello\n",
    "model = load_model(MODEL_PATH)\n",
    "print(\"✅ Modello caricato\")\n",
    "\n",
    "# ──────────────────── FUNZIONI DI PREPROCESSING ─────────────────────────────\n",
    "def load_and_normalize(path, sr=SR, duration=DURATION):\n",
    "    y, _ = librosa.load(path, sr=sr, duration=duration)\n",
    "    required = int(sr * duration)\n",
    "    y = np.pad(y, (0, max(0, required - len(y))))[:required]\n",
    "    max_amp = np.max(np.abs(y)) or 1.0\n",
    "    return y / max_amp\n",
    "\n",
    "def compute_log_mel_spectrogram(y):\n",
    "    S = librosa.feature.melspectrogram(\n",
    "        y=y, sr=SR, n_fft=N_FFT, hop_length=HOP_LENGTH,\n",
    "        win_length=WIN_LENGTH, n_mels=N_MELS, power=2.0\n",
    "    )\n",
    "    log_S = librosa.power_to_db(S, ref=np.max)\n",
    "    # pad / tronca a TARGET_FRAMES\n",
    "    if log_S.shape[1] < TARGET_FRAMES:\n",
    "        pad = TARGET_FRAMES - log_S.shape[1]\n",
    "        log_S = np.pad(log_S, ((0, 0), (0, pad)), mode='constant',\n",
    "                       constant_values=log_S.min())\n",
    "    else:\n",
    "        log_S = log_S[:, :TARGET_FRAMES]\n",
    "    return log_S\n",
    "\n",
    "# 2) Raccogli tutti i file audio (qualsiasi estensione comune)\n",
    "file_list = sorted(\n",
    "    glob.glob(os.path.join(AUDIO_FOLDER, \"*.[wW][aA][vV]\")) +\n",
    "    glob.glob(os.path.join(AUDIO_FOLDER, \"*.[mM][pP]3\")) +\n",
    "    glob.glob(os.path.join(AUDIO_FOLDER, \"*.[fF][lL][aA][cC]\"))\n",
    ")\n",
    "\n",
    "if not file_list:\n",
    "    raise RuntimeError(f\"Nessun file audio trovato in {AUDIO_FOLDER}\")\n",
    "\n",
    "# 3) Helper: predici un singolo file\n",
    "def predict_file(path):\n",
    "    y = load_and_normalize(path)                  # ⇠ stesso preprocessing\n",
    "    logmel = compute_log_mel_spectrogram(y)\n",
    "    mu, sigma = logmel.mean(), logmel.std() or 1.0\n",
    "    logmel = (logmel - mu) / sigma\n",
    "    logmel = logmel[np.newaxis, ..., np.newaxis]  # shape (1, N_MELS, T, 1)\n",
    "\n",
    "    proba = model.predict(logmel, verbose=0)[0]\n",
    "    idx   = int(np.argmax(proba))\n",
    "    return CLASS_NAMES[idx], proba\n",
    "\n",
    "# 4) Loop sui 5 file\n",
    "print(\"\\nRisultati:\")\n",
    "for path in file_list:\n",
    "    label, proba = predict_file(path)\n",
    "    fname = os.path.basename(path)\n",
    "    print(f\"• {fname:<25} →  {label.upper():5s}  \"\n",
    "          f\"(noisy {proba[0]:.3f} | music {proba[1]:.3f})\")"
   ]
  }
 ],
 "metadata": {
  "kernelspec": {
   "display_name": ".venv",
   "language": "python",
   "name": "python3"
  },
  "language_info": {
   "codemirror_mode": {
    "name": "ipython",
    "version": 3
   },
   "file_extension": ".py",
   "mimetype": "text/x-python",
   "name": "python",
   "nbconvert_exporter": "python",
   "pygments_lexer": "ipython3",
   "version": "3.9.6"
  }
 },
 "nbformat": 4,
 "nbformat_minor": 2
}
