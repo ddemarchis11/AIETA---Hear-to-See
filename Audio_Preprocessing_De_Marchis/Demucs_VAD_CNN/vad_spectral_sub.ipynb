{
 "cells": [
  {
   "cell_type": "code",
   "execution_count": 5,
   "metadata": {},
   "outputs": [],
   "source": [
    "import librosa\n",
    "import numpy as np\n",
    "import soundfile as sf\n",
    "import matplotlib.pyplot as plt\n",
    "\n",
    "fname = \"noisy_bground\"\n",
    "y, sr = librosa.load(f\"audio_traces/{fname}.wav\", sr=None)\n",
    "\n",
    "n_fft = 1024\n",
    "hop_length = n_fft // 4\n",
    "window = 'hann'\n",
    "\n",
    "S = librosa.stft(y, n_fft=n_fft, hop_length=hop_length,\n",
    "                 win_length=n_fft, window=window, center=False)\n",
    "magnitude, phase = np.abs(S), np.angle(S)\n",
    "\n",
    "frames = librosa.util.frame(y, frame_length=n_fft, hop_length=hop_length)\n",
    "frame_energy = np.sum(frames**2, axis=0)\n",
    "threshold = np.median(frame_energy) * 0.3\n",
    "speech_mask = frame_energy > threshold  # True = frame con parlato\n",
    "\n",
    "noise_spectrum = magnitude[:, ~speech_mask]\n",
    "noise_mean = np.mean(noise_spectrum, axis=1, keepdims=True)\n",
    "\n",
    "over_sub  = 5.0\n",
    "abs_floor = 0.01  # valori tipicamente bassi\n",
    "\n",
    "mag_clean = magnitude - over_sub * noise_mean\n",
    "mag_clean = np.maximum(mag_clean, abs_floor) # riduco artefatti\n",
    "\n",
    "S_clean_sub = mag_clean * np.exp(1j * phase)\n",
    "y_clean_sub = librosa.istft(S_clean_sub,\n",
    "                            hop_length=hop_length,\n",
    "                            win_length=n_fft,\n",
    "                            window=window,\n",
    "                            center=False)\n",
    "sf.write(f\"{fname}_cleaned.wav\", y_clean_sub, sr)"
   ]
  }
 ],
 "metadata": {
  "kernelspec": {
   "display_name": "venv",
   "language": "python",
   "name": "python3"
  },
  "language_info": {
   "codemirror_mode": {
    "name": "ipython",
    "version": 3
   },
   "file_extension": ".py",
   "mimetype": "text/x-python",
   "name": "python",
   "nbconvert_exporter": "python",
   "pygments_lexer": "ipython3",
   "version": "3.9.6"
  }
 },
 "nbformat": 4,
 "nbformat_minor": 2
}
