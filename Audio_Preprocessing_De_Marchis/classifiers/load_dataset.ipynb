{
 "cells": [
  {
   "cell_type": "code",
   "execution_count": 1,
   "id": "1b0823f0",
   "metadata": {},
   "outputs": [
    {
     "name": "stderr",
     "output_type": "stream",
     "text": [
      "/Users/domenicodemarchis/Desktop/IAARTS/classifier/.venv/lib/python3.9/site-packages/urllib3/__init__.py:35: NotOpenSSLWarning: urllib3 v2 only supports OpenSSL 1.1.1+, currently the 'ssl' module is compiled with 'LibreSSL 2.8.3'. See: https://github.com/urllib3/urllib3/issues/3020\n",
      "  warnings.warn(\n",
      "/Users/domenicodemarchis/Desktop/IAARTS/classifier/.venv/lib/python3.9/site-packages/tqdm/auto.py:21: TqdmWarning: IProgress not found. Please update jupyter and ipywidgets. See https://ipywidgets.readthedocs.io/en/stable/user_install.html\n",
      "  from .autonotebook import tqdm as notebook_tqdm\n"
     ]
    },
    {
     "name": "stdout",
     "output_type": "stream",
     "text": [
      "Downloading from https://www.kaggle.com/api/v1/datasets/download/mathurinache/the-lj-speech-dataset?dataset_version_number=1...\n"
     ]
    },
    {
     "name": "stderr",
     "output_type": "stream",
     "text": [
      "100%|██████████| 2.99G/2.99G [05:16<00:00, 10.1MB/s]"
     ]
    },
    {
     "name": "stdout",
     "output_type": "stream",
     "text": [
      "Extracting files...\n"
     ]
    },
    {
     "name": "stderr",
     "output_type": "stream",
     "text": [
      "\n"
     ]
    },
    {
     "name": "stdout",
     "output_type": "stream",
     "text": [
      "Path to dataset files: /Users/domenicodemarchis/.cache/kagglehub/datasets/mathurinache/the-lj-speech-dataset/versions/1\n"
     ]
    }
   ],
   "source": [
    "import kagglehub\n",
    "\n",
    "path = kagglehub.dataset_download(\"mathurinache/the-lj-speech-dataset\")\n",
    "\n",
    "print(\"Path to dataset files:\", path)"
   ]
  },
  {
   "cell_type": "code",
   "execution_count": 4,
   "id": "e709a316",
   "metadata": {},
   "outputs": [
    {
     "name": "stdout",
     "output_type": "stream",
     "text": [
      "Resuming download from 7174356992 bytes (206440174 bytes left)...\n",
      "Resuming download from https://www.kaggle.com/api/v1/datasets/download/chrisfilo/demand?dataset_version_number=1 (7174356992/7380797166) bytes left.\n"
     ]
    },
    {
     "name": "stderr",
     "output_type": "stream",
     "text": [
      "100%|██████████| 6.87G/6.87G [00:10<00:00, 20.1MB/s]"
     ]
    },
    {
     "name": "stdout",
     "output_type": "stream",
     "text": [
      "Extracting files...\n"
     ]
    },
    {
     "name": "stderr",
     "output_type": "stream",
     "text": [
      "\n"
     ]
    },
    {
     "name": "stdout",
     "output_type": "stream",
     "text": [
      "Path to dataset files: /Users/domenicodemarchis/.cache/kagglehub/datasets/chrisfilo/demand/versions/1\n"
     ]
    }
   ],
   "source": [
    "path = kagglehub.dataset_download(\"chrisfilo/demand\")\n",
    "\n",
    "print(\"Path to dataset files:\", path)"
   ]
  },
  {
   "cell_type": "code",
   "execution_count": 8,
   "id": "a9365445",
   "metadata": {},
   "outputs": [
    {
     "name": "stdout",
     "output_type": "stream",
     "text": [
      "Downloading from https://www.kaggle.com/api/v1/datasets/download/raycarterrete/musdb18-stem-division-vocals-and-instrumentals?dataset_version_number=1...\n"
     ]
    },
    {
     "name": "stderr",
     "output_type": "stream",
     "text": [
      "100%|██████████| 1.14G/1.14G [00:35<00:00, 34.4MB/s]"
     ]
    },
    {
     "name": "stdout",
     "output_type": "stream",
     "text": [
      "Extracting files...\n"
     ]
    },
    {
     "name": "stderr",
     "output_type": "stream",
     "text": [
      "\n"
     ]
    },
    {
     "name": "stdout",
     "output_type": "stream",
     "text": [
      "Path to dataset files: /Users/domenicodemarchis/.cache/kagglehub/datasets/raycarterrete/musdb18-stem-division-vocals-and-instrumentals/versions/1\n"
     ]
    }
   ],
   "source": [
    "path = kagglehub.dataset_download(\"raycarterrete/musdb18-stem-division-vocals-and-instrumentals\")\n",
    "\n",
    "print(\"Path to dataset files:\", path)"
   ]
  },
  {
   "cell_type": "code",
   "execution_count": 9,
   "id": "8d3a6caf",
   "metadata": {},
   "outputs": [
    {
     "name": "stdout",
     "output_type": "stream",
     "text": [
      "Errore durante lo spostamento: Destination path '/Users/domenicodemarchis/Desktop/IAARTS/classifier/datasets/mathurinache' already exists\n",
      "Errore durante lo spostamento: Destination path '/Users/domenicodemarchis/Desktop/IAARTS/classifier/datasets/chrisfilo' already exists\n",
      "Spostata /Users/domenicodemarchis/.cache/kagglehub/datasets/raycarterrete → /Users/domenicodemarchis/Desktop/IAARTS/classifier/datasets\n"
     ]
    }
   ],
   "source": [
    "import os\n",
    "import shutil\n",
    "\n",
    "datasets = [\"mathurinache\", \"chrisfilo\", \"raycarterrete\"]\n",
    "\n",
    "src_path = os.path.join(os.path.expanduser(\"~\"), \".cache/kagglehub/datasets\")\n",
    "sources = [os.path.join(src_path,src) for src in datasets]\n",
    "\n",
    "dst = os.path.abspath(\"datasets\")\n",
    "\n",
    "for src in sources:\n",
    "    try:\n",
    "        shutil.move(src, dst)\n",
    "        print(f\"Spostata {src} → {dst}\")\n",
    "    except shutil.Error as e:\n",
    "        print(f\"Errore durante lo spostamento: {e}\")"
   ]
  },
  {
   "cell_type": "code",
   "execution_count": 10,
   "id": "2df8ab3f",
   "metadata": {},
   "outputs": [],
   "source": [
    "from pydub import AudioSegment\n",
    "from tqdm.notebook import tqdm\n",
    "\n",
    "from_dirs = [\"NPARK_48k/NPARK\", \"PCAFETER_48k/PCAFETER\", \"PSTATION_48k/PSTATION\", \"STRAFFIC_48k/STRAFFIC\", \"TMETRO_48k/TMETRO\"]\n",
    "\n",
    "to_dirs = [\"park_noises\", \"cafeteria_noises\", \"station_noises\", \"traffic_noises\", \"metro_noises\"]\n",
    "\n",
    "\n",
    "os.makedirs(\"datasets/background_simplified\", exist_ok = True)\n",
    "\n",
    "input_dirs  = [os.path.join(os.path.abspath(\"datasets/chrisfilo/demand/versions/1\"), dir) for dir in from_dirs]\n",
    "output_dirs  = [os.path.join(os.path.abspath(\"datasets/background_simplified\"), dir) for dir in to_dirs]\n",
    "\n",
    "for od in output_dirs: os.makedirs(od, exist_ok = True)\n",
    "\n",
    "start_ms = (1 * 60 + 30) * 1000\n",
    "end_ms   = (2 * 60 + 30) * 1000 \n",
    "\n",
    "for input_dir, output_dir in zip(input_dirs, output_dirs):\n",
    "    for fname in os.listdir(input_dir):\n",
    "        if not fname.lower().endswith(\".wav\"): continue\n",
    "\n",
    "        path_file = os.path.join(input_dir,fname)\n",
    "        audio = AudioSegment.from_wav(path_file)\n",
    "\n",
    "        if len(audio) < end_ms:\n",
    "            print(f\"{fname}: durata inferiore a 2:30, skip.\")\n",
    "            continue\n",
    "\n",
    "        slice_audio = audio[start_ms:end_ms]\n",
    "        \n",
    "        tag = os.path.basename(output_dir)\n",
    "        base, _    = os.path.splitext(fname)\n",
    "        out_name   = f\"{base}_{tag}_simplified.wav\"\n",
    "        \n",
    "        path_out   = os.path.join(output_dir, out_name)\n",
    "        slice_audio.export(path_out, format=\"wav\")"
   ]
  },
  {
   "cell_type": "code",
   "execution_count": 21,
   "id": "17676515",
   "metadata": {},
   "outputs": [
    {
     "name": "stdout",
     "output_type": "stream",
     "text": [
      "Converted: /Users/domenicodemarchis/Desktop/IAARTS/classifier/datasets/raycarterrete/musdb18-stem-division-vocals-and-instrumentals/versions/1/stem_files/Leaf - Summerghost.stem_vocals.mp4 -> /Users/domenicodemarchis/Desktop/IAARTS/classifier/datasets/music_set_wav/vocals/Leaf - Summerghost.stem_vocals.wav\n",
      "Converted: /Users/domenicodemarchis/Desktop/IAARTS/classifier/datasets/raycarterrete/musdb18-stem-division-vocals-and-instrumentals/versions/1/stem_files/North To Alaska - All The Same.stem_vocals.mp4 -> /Users/domenicodemarchis/Desktop/IAARTS/classifier/datasets/music_set_wav/vocals/North To Alaska - All The Same.stem_vocals.wav\n",
      "Converted: /Users/domenicodemarchis/Desktop/IAARTS/classifier/datasets/raycarterrete/musdb18-stem-division-vocals-and-instrumentals/versions/1/stem_files/Tim Taler - Stalker.stem_instrumental.mp4 -> /Users/domenicodemarchis/Desktop/IAARTS/classifier/datasets/music_set_wav/instrumentals/Tim Taler - Stalker.stem_instrumental.wav\n",
      "Converted: /Users/domenicodemarchis/Desktop/IAARTS/classifier/datasets/raycarterrete/musdb18-stem-division-vocals-and-instrumentals/versions/1/stem_files/Dark Ride - Burning Bridges.stem_vocals.mp4 -> /Users/domenicodemarchis/Desktop/IAARTS/classifier/datasets/music_set_wav/vocals/Dark Ride - Burning Bridges.stem_vocals.wav\n",
      "Converted: /Users/domenicodemarchis/Desktop/IAARTS/classifier/datasets/raycarterrete/musdb18-stem-division-vocals-and-instrumentals/versions/1/stem_files/Music Delta - Gospel.stem_instrumental.mp4 -> /Users/domenicodemarchis/Desktop/IAARTS/classifier/datasets/music_set_wav/instrumentals/Music Delta - Gospel.stem_instrumental.wav\n",
      "Converted: /Users/domenicodemarchis/Desktop/IAARTS/classifier/datasets/raycarterrete/musdb18-stem-division-vocals-and-instrumentals/versions/1/stem_files/Music Delta - Gospel.stem_vocals.mp4 -> /Users/domenicodemarchis/Desktop/IAARTS/classifier/datasets/music_set_wav/vocals/Music Delta - Gospel.stem_vocals.wav\n",
      "Converted: /Users/domenicodemarchis/Desktop/IAARTS/classifier/datasets/raycarterrete/musdb18-stem-division-vocals-and-instrumentals/versions/1/stem_files/Cnoc An Tursa - Bannockburn.stem_vocals.mp4 -> /Users/domenicodemarchis/Desktop/IAARTS/classifier/datasets/music_set_wav/vocals/Cnoc An Tursa - Bannockburn.stem_vocals.wav\n",
      "Converted: /Users/domenicodemarchis/Desktop/IAARTS/classifier/datasets/raycarterrete/musdb18-stem-division-vocals-and-instrumentals/versions/1/stem_files/The WrongUns - Rothko.stem_vocals.mp4 -> /Users/domenicodemarchis/Desktop/IAARTS/classifier/datasets/music_set_wav/vocals/The WrongUns - Rothko.stem_vocals.wav\n",
      "Converted: /Users/domenicodemarchis/Desktop/IAARTS/classifier/datasets/raycarterrete/musdb18-stem-division-vocals-and-instrumentals/versions/1/stem_files/Black Bloc - If You Want Success.stem_vocals.mp4 -> /Users/domenicodemarchis/Desktop/IAARTS/classifier/datasets/music_set_wav/vocals/Black Bloc - If You Want Success.stem_vocals.wav\n",
      "Converted: /Users/domenicodemarchis/Desktop/IAARTS/classifier/datasets/raycarterrete/musdb18-stem-division-vocals-and-instrumentals/versions/1/stem_files/Creepoid - OldTree.stem_instrumental.mp4 -> /Users/domenicodemarchis/Desktop/IAARTS/classifier/datasets/music_set_wav/instrumentals/Creepoid - OldTree.stem_instrumental.wav\n",
      "Converted: /Users/domenicodemarchis/Desktop/IAARTS/classifier/datasets/raycarterrete/musdb18-stem-division-vocals-and-instrumentals/versions/1/stem_files/Spike Mullings - Mikes Sulking.stem_instrumental.mp4 -> /Users/domenicodemarchis/Desktop/IAARTS/classifier/datasets/music_set_wav/instrumentals/Spike Mullings - Mikes Sulking.stem_instrumental.wav\n",
      "Converted: /Users/domenicodemarchis/Desktop/IAARTS/classifier/datasets/raycarterrete/musdb18-stem-division-vocals-and-instrumentals/versions/1/stem_files/Sweet Lights - You Let Me Down.stem_instrumental.mp4 -> /Users/domenicodemarchis/Desktop/IAARTS/classifier/datasets/music_set_wav/instrumentals/Sweet Lights - You Let Me Down.stem_instrumental.wav\n",
      "Converted: /Users/domenicodemarchis/Desktop/IAARTS/classifier/datasets/raycarterrete/musdb18-stem-division-vocals-and-instrumentals/versions/1/stem_files/Music Delta - 80s Rock.stem_vocals.mp4 -> /Users/domenicodemarchis/Desktop/IAARTS/classifier/datasets/music_set_wav/vocals/Music Delta - 80s Rock.stem_vocals.wav\n",
      "Converted: /Users/domenicodemarchis/Desktop/IAARTS/classifier/datasets/raycarterrete/musdb18-stem-division-vocals-and-instrumentals/versions/1/stem_files/Titanium - Haunted Age.stem_instrumental.mp4 -> /Users/domenicodemarchis/Desktop/IAARTS/classifier/datasets/music_set_wav/instrumentals/Titanium - Haunted Age.stem_instrumental.wav\n",
      "Converted: /Users/domenicodemarchis/Desktop/IAARTS/classifier/datasets/raycarterrete/musdb18-stem-division-vocals-and-instrumentals/versions/1/stem_files/Music Delta - Disco.stem_vocals.mp4 -> /Users/domenicodemarchis/Desktop/IAARTS/classifier/datasets/music_set_wav/vocals/Music Delta - Disco.stem_vocals.wav\n",
      "Converted: /Users/domenicodemarchis/Desktop/IAARTS/classifier/datasets/raycarterrete/musdb18-stem-division-vocals-and-instrumentals/versions/1/stem_files/AvaLuna - Waterduct.stem_vocals.mp4 -> /Users/domenicodemarchis/Desktop/IAARTS/classifier/datasets/music_set_wav/vocals/AvaLuna - Waterduct.stem_vocals.wav\n",
      "Converted: /Users/domenicodemarchis/Desktop/IAARTS/classifier/datasets/raycarterrete/musdb18-stem-division-vocals-and-instrumentals/versions/1/stem_files/Jokers, Jacks Kings - Sea Of Leaves.stem_instrumental.mp4 -> /Users/domenicodemarchis/Desktop/IAARTS/classifier/datasets/music_set_wav/instrumentals/Jokers, Jacks Kings - Sea Of Leaves.stem_instrumental.wav\n",
      "Converted: /Users/domenicodemarchis/Desktop/IAARTS/classifier/datasets/raycarterrete/musdb18-stem-division-vocals-and-instrumentals/versions/1/stem_files/Celestial Shore - Die For Us.stem_vocals.mp4 -> /Users/domenicodemarchis/Desktop/IAARTS/classifier/datasets/music_set_wav/vocals/Celestial Shore - Die For Us.stem_vocals.wav\n",
      "Converted: /Users/domenicodemarchis/Desktop/IAARTS/classifier/datasets/raycarterrete/musdb18-stem-division-vocals-and-instrumentals/versions/1/stem_files/Skelpolu - Human Mistakes.stem_instrumental.mp4 -> /Users/domenicodemarchis/Desktop/IAARTS/classifier/datasets/music_set_wav/instrumentals/Skelpolu - Human Mistakes.stem_instrumental.wav\n",
      "Converted: /Users/domenicodemarchis/Desktop/IAARTS/classifier/datasets/raycarterrete/musdb18-stem-division-vocals-and-instrumentals/versions/1/stem_files/Leaf - Come Around.stem_instrumental.mp4 -> /Users/domenicodemarchis/Desktop/IAARTS/classifier/datasets/music_set_wav/instrumentals/Leaf - Come Around.stem_instrumental.wav\n",
      "Converted: /Users/domenicodemarchis/Desktop/IAARTS/classifier/datasets/raycarterrete/musdb18-stem-division-vocals-and-instrumentals/versions/1/stem_files/Auctioneer - Our Future Faces.stem_vocals.mp4 -> /Users/domenicodemarchis/Desktop/IAARTS/classifier/datasets/music_set_wav/vocals/Auctioneer - Our Future Faces.stem_vocals.wav\n",
      "Converted: /Users/domenicodemarchis/Desktop/IAARTS/classifier/datasets/raycarterrete/musdb18-stem-division-vocals-and-instrumentals/versions/1/stem_files/Leaf - Wicked.stem_instrumental.mp4 -> /Users/domenicodemarchis/Desktop/IAARTS/classifier/datasets/music_set_wav/instrumentals/Leaf - Wicked.stem_instrumental.wav\n",
      "Converted: /Users/domenicodemarchis/Desktop/IAARTS/classifier/datasets/raycarterrete/musdb18-stem-division-vocals-and-instrumentals/versions/1/stem_files/Meaxic - Take A Step.stem_instrumental.mp4 -> /Users/domenicodemarchis/Desktop/IAARTS/classifier/datasets/music_set_wav/instrumentals/Meaxic - Take A Step.stem_instrumental.wav\n",
      "Converted: /Users/domenicodemarchis/Desktop/IAARTS/classifier/datasets/raycarterrete/musdb18-stem-division-vocals-and-instrumentals/versions/1/stem_files/Secret Mountains - High Horse.stem_vocals.mp4 -> /Users/domenicodemarchis/Desktop/IAARTS/classifier/datasets/music_set_wav/vocals/Secret Mountains - High Horse.stem_vocals.wav\n",
      "Converted: /Users/domenicodemarchis/Desktop/IAARTS/classifier/datasets/raycarterrete/musdb18-stem-division-vocals-and-instrumentals/versions/1/stem_files/Music Delta - Beatles.stem_vocals.mp4 -> /Users/domenicodemarchis/Desktop/IAARTS/classifier/datasets/music_set_wav/vocals/Music Delta - Beatles.stem_vocals.wav\n",
      "Converted: /Users/domenicodemarchis/Desktop/IAARTS/classifier/datasets/raycarterrete/musdb18-stem-division-vocals-and-instrumentals/versions/1/stem_files/Clara Berry And Wooldog - Stella.stem_instrumental.mp4 -> /Users/domenicodemarchis/Desktop/IAARTS/classifier/datasets/music_set_wav/instrumentals/Clara Berry And Wooldog - Stella.stem_instrumental.wav\n",
      "Converted: /Users/domenicodemarchis/Desktop/IAARTS/classifier/datasets/raycarterrete/musdb18-stem-division-vocals-and-instrumentals/versions/1/stem_files/Music Delta - Disco.stem_instrumental.mp4 -> /Users/domenicodemarchis/Desktop/IAARTS/classifier/datasets/music_set_wav/instrumentals/Music Delta - Disco.stem_instrumental.wav\n",
      "Converted: /Users/domenicodemarchis/Desktop/IAARTS/classifier/datasets/raycarterrete/musdb18-stem-division-vocals-and-instrumentals/versions/1/stem_files/Steven Clark - Bounty.stem_vocals.mp4 -> /Users/domenicodemarchis/Desktop/IAARTS/classifier/datasets/music_set_wav/vocals/Steven Clark - Bounty.stem_vocals.wav\n",
      "Converted: /Users/domenicodemarchis/Desktop/IAARTS/classifier/datasets/raycarterrete/musdb18-stem-division-vocals-and-instrumentals/versions/1/stem_files/Meaxic - Take A Step.stem_vocals.mp4 -> /Users/domenicodemarchis/Desktop/IAARTS/classifier/datasets/music_set_wav/vocals/Meaxic - Take A Step.stem_vocals.wav\n",
      "Converted: /Users/domenicodemarchis/Desktop/IAARTS/classifier/datasets/raycarterrete/musdb18-stem-division-vocals-and-instrumentals/versions/1/stem_files/A Classic Education - NightOwl.stem_instrumental.mp4 -> /Users/domenicodemarchis/Desktop/IAARTS/classifier/datasets/music_set_wav/instrumentals/A Classic Education - NightOwl.stem_instrumental.wav\n",
      "Converted: /Users/domenicodemarchis/Desktop/IAARTS/classifier/datasets/raycarterrete/musdb18-stem-division-vocals-and-instrumentals/versions/1/stem_files/Young Griffo - Blood To Bone.stem_instrumental.mp4 -> /Users/domenicodemarchis/Desktop/IAARTS/classifier/datasets/music_set_wav/instrumentals/Young Griffo - Blood To Bone.stem_instrumental.wav\n",
      "Converted: /Users/domenicodemarchis/Desktop/IAARTS/classifier/datasets/raycarterrete/musdb18-stem-division-vocals-and-instrumentals/versions/1/stem_files/Meaxic - You Listen.stem_vocals.mp4 -> /Users/domenicodemarchis/Desktop/IAARTS/classifier/datasets/music_set_wav/vocals/Meaxic - You Listen.stem_vocals.wav\n",
      "Converted: /Users/domenicodemarchis/Desktop/IAARTS/classifier/datasets/raycarterrete/musdb18-stem-division-vocals-and-instrumentals/versions/1/stem_files/The Districts - Vermont.stem_vocals.mp4 -> /Users/domenicodemarchis/Desktop/IAARTS/classifier/datasets/music_set_wav/vocals/The Districts - Vermont.stem_vocals.wav\n",
      "Converted: /Users/domenicodemarchis/Desktop/IAARTS/classifier/datasets/raycarterrete/musdb18-stem-division-vocals-and-instrumentals/versions/1/stem_files/BigTroubles - Phantom.stem_vocals.mp4 -> /Users/domenicodemarchis/Desktop/IAARTS/classifier/datasets/music_set_wav/vocals/BigTroubles - Phantom.stem_vocals.wav\n",
      "Converted: /Users/domenicodemarchis/Desktop/IAARTS/classifier/datasets/raycarterrete/musdb18-stem-division-vocals-and-instrumentals/versions/1/stem_files/Strand Of Oaks - Spacestation.stem_vocals.mp4 -> /Users/domenicodemarchis/Desktop/IAARTS/classifier/datasets/music_set_wav/vocals/Strand Of Oaks - Spacestation.stem_vocals.wav\n",
      "Converted: /Users/domenicodemarchis/Desktop/IAARTS/classifier/datasets/raycarterrete/musdb18-stem-division-vocals-and-instrumentals/versions/1/stem_files/Johnny Lokke - Promises Lies.stem_instrumental.mp4 -> /Users/domenicodemarchis/Desktop/IAARTS/classifier/datasets/music_set_wav/instrumentals/Johnny Lokke - Promises Lies.stem_instrumental.wav\n",
      "Converted: /Users/domenicodemarchis/Desktop/IAARTS/classifier/datasets/raycarterrete/musdb18-stem-division-vocals-and-instrumentals/versions/1/stem_files/Music Delta - Hendrix.stem_instrumental.mp4 -> /Users/domenicodemarchis/Desktop/IAARTS/classifier/datasets/music_set_wav/instrumentals/Music Delta - Hendrix.stem_instrumental.wav\n",
      "Converted: /Users/domenicodemarchis/Desktop/IAARTS/classifier/datasets/raycarterrete/musdb18-stem-division-vocals-and-instrumentals/versions/1/stem_files/Fergessen - Back From The Start.stem_vocals.mp4 -> /Users/domenicodemarchis/Desktop/IAARTS/classifier/datasets/music_set_wav/vocals/Fergessen - Back From The Start.stem_vocals.wav\n",
      "Converted: /Users/domenicodemarchis/Desktop/IAARTS/classifier/datasets/raycarterrete/musdb18-stem-division-vocals-and-instrumentals/versions/1/stem_files/Music Delta - Country1.stem_vocals.mp4 -> /Users/domenicodemarchis/Desktop/IAARTS/classifier/datasets/music_set_wav/vocals/Music Delta - Country1.stem_vocals.wav\n",
      "Converted: /Users/domenicodemarchis/Desktop/IAARTS/classifier/datasets/raycarterrete/musdb18-stem-division-vocals-and-instrumentals/versions/1/stem_files/Music Delta - Britpop.stem_vocals.mp4 -> /Users/domenicodemarchis/Desktop/IAARTS/classifier/datasets/music_set_wav/vocals/Music Delta - Britpop.stem_vocals.wav\n",
      "Converted: /Users/domenicodemarchis/Desktop/IAARTS/classifier/datasets/raycarterrete/musdb18-stem-division-vocals-and-instrumentals/versions/1/stem_files/James May - All Souls Moon.stem_vocals.mp4 -> /Users/domenicodemarchis/Desktop/IAARTS/classifier/datasets/music_set_wav/vocals/James May - All Souls Moon.stem_vocals.wav\n",
      "Converted: /Users/domenicodemarchis/Desktop/IAARTS/classifier/datasets/raycarterrete/musdb18-stem-division-vocals-and-instrumentals/versions/1/stem_files/Music Delta - Punk.stem_instrumental.mp4 -> /Users/domenicodemarchis/Desktop/IAARTS/classifier/datasets/music_set_wav/instrumentals/Music Delta - Punk.stem_instrumental.wav\n",
      "Converted: /Users/domenicodemarchis/Desktop/IAARTS/classifier/datasets/raycarterrete/musdb18-stem-division-vocals-and-instrumentals/versions/1/stem_files/Chris Durban - Celebrate.stem_instrumental.mp4 -> /Users/domenicodemarchis/Desktop/IAARTS/classifier/datasets/music_set_wav/instrumentals/Chris Durban - Celebrate.stem_instrumental.wav\n",
      "Converted: /Users/domenicodemarchis/Desktop/IAARTS/classifier/datasets/raycarterrete/musdb18-stem-division-vocals-and-instrumentals/versions/1/stem_files/Bill Chudziak - Children Of No-one.stem_vocals.mp4 -> /Users/domenicodemarchis/Desktop/IAARTS/classifier/datasets/music_set_wav/vocals/Bill Chudziak - Children Of No-one.stem_vocals.wav\n",
      "Converted: /Users/domenicodemarchis/Desktop/IAARTS/classifier/datasets/raycarterrete/musdb18-stem-division-vocals-and-instrumentals/versions/1/stem_files/Cnoc An Tursa - Bannockburn.stem_instrumental.mp4 -> /Users/domenicodemarchis/Desktop/IAARTS/classifier/datasets/music_set_wav/instrumentals/Cnoc An Tursa - Bannockburn.stem_instrumental.wav\n",
      "Converted: /Users/domenicodemarchis/Desktop/IAARTS/classifier/datasets/raycarterrete/musdb18-stem-division-vocals-and-instrumentals/versions/1/stem_files/Alexander Ross - Velvet Curtain.stem_vocals.mp4 -> /Users/domenicodemarchis/Desktop/IAARTS/classifier/datasets/music_set_wav/vocals/Alexander Ross - Velvet Curtain.stem_vocals.wav\n",
      "Converted: /Users/domenicodemarchis/Desktop/IAARTS/classifier/datasets/raycarterrete/musdb18-stem-division-vocals-and-instrumentals/versions/1/stem_files/Fergessen - Nos Palpitants.stem_instrumental.mp4 -> /Users/domenicodemarchis/Desktop/IAARTS/classifier/datasets/music_set_wav/instrumentals/Fergessen - Nos Palpitants.stem_instrumental.wav\n",
      "Converted: /Users/domenicodemarchis/Desktop/IAARTS/classifier/datasets/raycarterrete/musdb18-stem-division-vocals-and-instrumentals/versions/1/stem_files/Aimee Norwich - Child.stem_vocals.mp4 -> /Users/domenicodemarchis/Desktop/IAARTS/classifier/datasets/music_set_wav/vocals/Aimee Norwich - Child.stem_vocals.wav\n",
      "Converted: /Users/domenicodemarchis/Desktop/IAARTS/classifier/datasets/raycarterrete/musdb18-stem-division-vocals-and-instrumentals/versions/1/stem_files/Swinging Steaks - Lost My Way.stem_instrumental.mp4 -> /Users/domenicodemarchis/Desktop/IAARTS/classifier/datasets/music_set_wav/instrumentals/Swinging Steaks - Lost My Way.stem_instrumental.wav\n",
      "Converted: /Users/domenicodemarchis/Desktop/IAARTS/classifier/datasets/raycarterrete/musdb18-stem-division-vocals-and-instrumentals/versions/1/stem_files/Johnny Lokke - Promises Lies.stem_vocals.mp4 -> /Users/domenicodemarchis/Desktop/IAARTS/classifier/datasets/music_set_wav/vocals/Johnny Lokke - Promises Lies.stem_vocals.wav\n",
      "Converted: /Users/domenicodemarchis/Desktop/IAARTS/classifier/datasets/raycarterrete/musdb18-stem-division-vocals-and-instrumentals/versions/1/stem_files/St Vitus - Word Gets Around.stem_instrumental.mp4 -> /Users/domenicodemarchis/Desktop/IAARTS/classifier/datasets/music_set_wav/instrumentals/St Vitus - Word Gets Around.stem_instrumental.wav\n",
      "Converted: /Users/domenicodemarchis/Desktop/IAARTS/classifier/datasets/raycarterrete/musdb18-stem-division-vocals-and-instrumentals/versions/1/stem_files/Clara Berry And Wooldog - Air Traffic.stem_instrumental.mp4 -> /Users/domenicodemarchis/Desktop/IAARTS/classifier/datasets/music_set_wav/instrumentals/Clara Berry And Wooldog - Air Traffic.stem_instrumental.wav\n",
      "Converted: /Users/domenicodemarchis/Desktop/IAARTS/classifier/datasets/raycarterrete/musdb18-stem-division-vocals-and-instrumentals/versions/1/stem_files/Giselle - Moss.stem_vocals.mp4 -> /Users/domenicodemarchis/Desktop/IAARTS/classifier/datasets/music_set_wav/vocals/Giselle - Moss.stem_vocals.wav\n",
      "Converted: /Users/domenicodemarchis/Desktop/IAARTS/classifier/datasets/raycarterrete/musdb18-stem-division-vocals-and-instrumentals/versions/1/stem_files/Johnny Lokke - Whisper To A Scream.stem_vocals.mp4 -> /Users/domenicodemarchis/Desktop/IAARTS/classifier/datasets/music_set_wav/vocals/Johnny Lokke - Whisper To A Scream.stem_vocals.wav\n",
      "Converted: /Users/domenicodemarchis/Desktop/IAARTS/classifier/datasets/raycarterrete/musdb18-stem-division-vocals-and-instrumentals/versions/1/stem_files/Night Panther - Fire.stem_instrumental.mp4 -> /Users/domenicodemarchis/Desktop/IAARTS/classifier/datasets/music_set_wav/instrumentals/Night Panther - Fire.stem_instrumental.wav\n",
      "Converted: /Users/domenicodemarchis/Desktop/IAARTS/classifier/datasets/raycarterrete/musdb18-stem-division-vocals-and-instrumentals/versions/1/stem_files/Young Griffo - Pennies.stem_instrumental.mp4 -> /Users/domenicodemarchis/Desktop/IAARTS/classifier/datasets/music_set_wav/instrumentals/Young Griffo - Pennies.stem_instrumental.wav\n",
      "Converted: /Users/domenicodemarchis/Desktop/IAARTS/classifier/datasets/raycarterrete/musdb18-stem-division-vocals-and-instrumentals/versions/1/stem_files/Night Panther - Fire.stem_vocals.mp4 -> /Users/domenicodemarchis/Desktop/IAARTS/classifier/datasets/music_set_wav/vocals/Night Panther - Fire.stem_vocals.wav\n",
      "Converted: /Users/domenicodemarchis/Desktop/IAARTS/classifier/datasets/raycarterrete/musdb18-stem-division-vocals-and-instrumentals/versions/1/stem_files/Hollow Ground - Left Blind.stem_instrumental.mp4 -> /Users/domenicodemarchis/Desktop/IAARTS/classifier/datasets/music_set_wav/instrumentals/Hollow Ground - Left Blind.stem_instrumental.wav\n",
      "Converted: /Users/domenicodemarchis/Desktop/IAARTS/classifier/datasets/raycarterrete/musdb18-stem-division-vocals-and-instrumentals/versions/1/stem_files/Lushlife - Toynbee Suite.stem_instrumental.mp4 -> /Users/domenicodemarchis/Desktop/IAARTS/classifier/datasets/music_set_wav/instrumentals/Lushlife - Toynbee Suite.stem_instrumental.wav\n",
      "Converted: /Users/domenicodemarchis/Desktop/IAARTS/classifier/datasets/raycarterrete/musdb18-stem-division-vocals-and-instrumentals/versions/1/stem_files/Young Griffo - Facade.stem_instrumental.mp4 -> /Users/domenicodemarchis/Desktop/IAARTS/classifier/datasets/music_set_wav/instrumentals/Young Griffo - Facade.stem_instrumental.wav\n",
      "Converted: /Users/domenicodemarchis/Desktop/IAARTS/classifier/datasets/raycarterrete/musdb18-stem-division-vocals-and-instrumentals/versions/1/stem_files/James May - On The Line.stem_vocals.mp4 -> /Users/domenicodemarchis/Desktop/IAARTS/classifier/datasets/music_set_wav/vocals/James May - On The Line.stem_vocals.wav\n",
      "Converted: /Users/domenicodemarchis/Desktop/IAARTS/classifier/datasets/raycarterrete/musdb18-stem-division-vocals-and-instrumentals/versions/1/stem_files/Flags - 54.stem_vocals.mp4 -> /Users/domenicodemarchis/Desktop/IAARTS/classifier/datasets/music_set_wav/vocals/Flags - 54.stem_vocals.wav\n",
      "Converted: /Users/domenicodemarchis/Desktop/IAARTS/classifier/datasets/raycarterrete/musdb18-stem-division-vocals-and-instrumentals/versions/1/stem_files/Jokers, Jacks Kings - Sea Of Leaves.stem_vocals.mp4 -> /Users/domenicodemarchis/Desktop/IAARTS/classifier/datasets/music_set_wav/vocals/Jokers, Jacks Kings - Sea Of Leaves.stem_vocals.wav\n",
      "Converted: /Users/domenicodemarchis/Desktop/IAARTS/classifier/datasets/raycarterrete/musdb18-stem-division-vocals-and-instrumentals/versions/1/stem_files/Clara Berry And Wooldog - Stella.stem_vocals.mp4 -> /Users/domenicodemarchis/Desktop/IAARTS/classifier/datasets/music_set_wav/vocals/Clara Berry And Wooldog - Stella.stem_vocals.wav\n",
      "Converted: /Users/domenicodemarchis/Desktop/IAARTS/classifier/datasets/raycarterrete/musdb18-stem-division-vocals-and-instrumentals/versions/1/stem_files/The Long Wait - Back Home To Blue.stem_instrumental.mp4 -> /Users/domenicodemarchis/Desktop/IAARTS/classifier/datasets/music_set_wav/instrumentals/The Long Wait - Back Home To Blue.stem_instrumental.wav\n",
      "Converted: /Users/domenicodemarchis/Desktop/IAARTS/classifier/datasets/raycarterrete/musdb18-stem-division-vocals-and-instrumentals/versions/1/stem_files/Atlantis Bound - It Was My Fault For Waiting.stem_vocals.mp4 -> /Users/domenicodemarchis/Desktop/IAARTS/classifier/datasets/music_set_wav/vocals/Atlantis Bound - It Was My Fault For Waiting.stem_vocals.wav\n",
      "Converted: /Users/domenicodemarchis/Desktop/IAARTS/classifier/datasets/raycarterrete/musdb18-stem-division-vocals-and-instrumentals/versions/1/stem_files/The Districts - Vermont.stem_instrumental.mp4 -> /Users/domenicodemarchis/Desktop/IAARTS/classifier/datasets/music_set_wav/instrumentals/The Districts - Vermont.stem_instrumental.wav\n",
      "Converted: /Users/domenicodemarchis/Desktop/IAARTS/classifier/datasets/raycarterrete/musdb18-stem-division-vocals-and-instrumentals/versions/1/stem_files/AvaLuna - Waterduct.stem_instrumental.mp4 -> /Users/domenicodemarchis/Desktop/IAARTS/classifier/datasets/music_set_wav/instrumentals/AvaLuna - Waterduct.stem_instrumental.wav\n",
      "Converted: /Users/domenicodemarchis/Desktop/IAARTS/classifier/datasets/raycarterrete/musdb18-stem-division-vocals-and-instrumentals/versions/1/stem_files/Triviul - Dorothy.stem_vocals.mp4 -> /Users/domenicodemarchis/Desktop/IAARTS/classifier/datasets/music_set_wav/vocals/Triviul - Dorothy.stem_vocals.wav\n",
      "Converted: /Users/domenicodemarchis/Desktop/IAARTS/classifier/datasets/raycarterrete/musdb18-stem-division-vocals-and-instrumentals/versions/1/stem_files/Actions - One Minute Smile.stem_instrumental.mp4 -> /Users/domenicodemarchis/Desktop/IAARTS/classifier/datasets/music_set_wav/instrumentals/Actions - One Minute Smile.stem_instrumental.wav\n",
      "Converted: /Users/domenicodemarchis/Desktop/IAARTS/classifier/datasets/raycarterrete/musdb18-stem-division-vocals-and-instrumentals/versions/1/stem_files/James May - All Souls Moon.stem_instrumental.mp4 -> /Users/domenicodemarchis/Desktop/IAARTS/classifier/datasets/music_set_wav/instrumentals/James May - All Souls Moon.stem_instrumental.wav\n",
      "Converted: /Users/domenicodemarchis/Desktop/IAARTS/classifier/datasets/raycarterrete/musdb18-stem-division-vocals-and-instrumentals/versions/1/stem_files/Alexander Ross - Goodbye Bolero.stem_vocals.mp4 -> /Users/domenicodemarchis/Desktop/IAARTS/classifier/datasets/music_set_wav/vocals/Alexander Ross - Goodbye Bolero.stem_vocals.wav\n",
      "Converted: /Users/domenicodemarchis/Desktop/IAARTS/classifier/datasets/raycarterrete/musdb18-stem-division-vocals-and-instrumentals/versions/1/stem_files/Grants - PunchDrunk.stem_vocals.mp4 -> /Users/domenicodemarchis/Desktop/IAARTS/classifier/datasets/music_set_wav/vocals/Grants - PunchDrunk.stem_vocals.wav\n",
      "Converted: /Users/domenicodemarchis/Desktop/IAARTS/classifier/datasets/raycarterrete/musdb18-stem-division-vocals-and-instrumentals/versions/1/stem_files/Traffic Experiment - Once More (With Feeling).stem_vocals.mp4 -> /Users/domenicodemarchis/Desktop/IAARTS/classifier/datasets/music_set_wav/vocals/Traffic Experiment - Once More (With Feeling).stem_vocals.wav\n",
      "Converted: /Users/domenicodemarchis/Desktop/IAARTS/classifier/datasets/raycarterrete/musdb18-stem-division-vocals-and-instrumentals/versions/1/stem_files/Bill Chudziak - Children Of No-one.stem_instrumental.mp4 -> /Users/domenicodemarchis/Desktop/IAARTS/classifier/datasets/music_set_wav/instrumentals/Bill Chudziak - Children Of No-one.stem_instrumental.wav\n",
      "Converted: /Users/domenicodemarchis/Desktop/IAARTS/classifier/datasets/raycarterrete/musdb18-stem-division-vocals-and-instrumentals/versions/1/stem_files/Strand Of Oaks - Spacestation.stem_instrumental.mp4 -> /Users/domenicodemarchis/Desktop/IAARTS/classifier/datasets/music_set_wav/instrumentals/Strand Of Oaks - Spacestation.stem_instrumental.wav\n",
      "Converted: /Users/domenicodemarchis/Desktop/IAARTS/classifier/datasets/raycarterrete/musdb18-stem-division-vocals-and-instrumentals/versions/1/stem_files/Faces On Film - Waiting For Ga.stem_vocals.mp4 -> /Users/domenicodemarchis/Desktop/IAARTS/classifier/datasets/music_set_wav/vocals/Faces On Film - Waiting For Ga.stem_vocals.wav\n",
      "Converted: /Users/domenicodemarchis/Desktop/IAARTS/classifier/datasets/raycarterrete/musdb18-stem-division-vocals-and-instrumentals/versions/1/stem_files/Hollow Ground - Left Blind.stem_vocals.mp4 -> /Users/domenicodemarchis/Desktop/IAARTS/classifier/datasets/music_set_wav/vocals/Hollow Ground - Left Blind.stem_vocals.wav\n",
      "Converted: /Users/domenicodemarchis/Desktop/IAARTS/classifier/datasets/raycarterrete/musdb18-stem-division-vocals-and-instrumentals/versions/1/stem_files/Clara Berry And Wooldog - Waltz For My Victims.stem_instrumental.mp4 -> /Users/domenicodemarchis/Desktop/IAARTS/classifier/datasets/music_set_wav/instrumentals/Clara Berry And Wooldog - Waltz For My Victims.stem_instrumental.wav\n",
      "Converted: /Users/domenicodemarchis/Desktop/IAARTS/classifier/datasets/raycarterrete/musdb18-stem-division-vocals-and-instrumentals/versions/1/stem_files/Music Delta - Country1.stem_instrumental.mp4 -> /Users/domenicodemarchis/Desktop/IAARTS/classifier/datasets/music_set_wav/instrumentals/Music Delta - Country1.stem_instrumental.wav\n",
      "Converted: /Users/domenicodemarchis/Desktop/IAARTS/classifier/datasets/raycarterrete/musdb18-stem-division-vocals-and-instrumentals/versions/1/stem_files/James May - If You Say.stem_instrumental.mp4 -> /Users/domenicodemarchis/Desktop/IAARTS/classifier/datasets/music_set_wav/instrumentals/James May - If You Say.stem_instrumental.wav\n",
      "Converted: /Users/domenicodemarchis/Desktop/IAARTS/classifier/datasets/raycarterrete/musdb18-stem-division-vocals-and-instrumentals/versions/1/stem_files/ANiMAL - Rockshow.stem_vocals.mp4 -> /Users/domenicodemarchis/Desktop/IAARTS/classifier/datasets/music_set_wav/vocals/ANiMAL - Rockshow.stem_vocals.wav\n",
      "Converted: /Users/domenicodemarchis/Desktop/IAARTS/classifier/datasets/raycarterrete/musdb18-stem-division-vocals-and-instrumentals/versions/1/stem_files/James May - On The Line.stem_instrumental.mp4 -> /Users/domenicodemarchis/Desktop/IAARTS/classifier/datasets/music_set_wav/instrumentals/James May - On The Line.stem_instrumental.wav\n",
      "Converted: /Users/domenicodemarchis/Desktop/IAARTS/classifier/datasets/raycarterrete/musdb18-stem-division-vocals-and-instrumentals/versions/1/stem_files/A Classic Education - NightOwl.stem_vocals.mp4 -> /Users/domenicodemarchis/Desktop/IAARTS/classifier/datasets/music_set_wav/vocals/A Classic Education - NightOwl.stem_vocals.wav\n",
      "Converted: /Users/domenicodemarchis/Desktop/IAARTS/classifier/datasets/raycarterrete/musdb18-stem-division-vocals-and-instrumentals/versions/1/stem_files/Sweet Lights - You Let Me Down.stem_vocals.mp4 -> /Users/domenicodemarchis/Desktop/IAARTS/classifier/datasets/music_set_wav/vocals/Sweet Lights - You Let Me Down.stem_vocals.wav\n",
      "Converted: /Users/domenicodemarchis/Desktop/IAARTS/classifier/datasets/raycarterrete/musdb18-stem-division-vocals-and-instrumentals/versions/1/stem_files/Drumtracks - Ghost Bitch.stem_instrumental.mp4 -> /Users/domenicodemarchis/Desktop/IAARTS/classifier/datasets/music_set_wav/instrumentals/Drumtracks - Ghost Bitch.stem_instrumental.wav\n",
      "Converted: /Users/domenicodemarchis/Desktop/IAARTS/classifier/datasets/raycarterrete/musdb18-stem-division-vocals-and-instrumentals/versions/1/stem_files/Jay Menon - Through My Eyes.stem_vocals.mp4 -> /Users/domenicodemarchis/Desktop/IAARTS/classifier/datasets/music_set_wav/vocals/Jay Menon - Through My Eyes.stem_vocals.wav\n",
      "Converted: /Users/domenicodemarchis/Desktop/IAARTS/classifier/datasets/raycarterrete/musdb18-stem-division-vocals-and-instrumentals/versions/1/stem_files/Phre The Eon - Everybodys Falling Apart.stem_vocals.mp4 -> /Users/domenicodemarchis/Desktop/IAARTS/classifier/datasets/music_set_wav/vocals/Phre The Eon - Everybodys Falling Apart.stem_vocals.wav\n",
      "Converted: /Users/domenicodemarchis/Desktop/IAARTS/classifier/datasets/raycarterrete/musdb18-stem-division-vocals-and-instrumentals/versions/1/stem_files/Faces On Film - Waiting For Ga.stem_instrumental.mp4 -> /Users/domenicodemarchis/Desktop/IAARTS/classifier/datasets/music_set_wav/instrumentals/Faces On Film - Waiting For Ga.stem_instrumental.wav\n",
      "Converted: /Users/domenicodemarchis/Desktop/IAARTS/classifier/datasets/raycarterrete/musdb18-stem-division-vocals-and-instrumentals/versions/1/stem_files/Fergessen - The Wind.stem_vocals.mp4 -> /Users/domenicodemarchis/Desktop/IAARTS/classifier/datasets/music_set_wav/vocals/Fergessen - The Wind.stem_vocals.wav\n",
      "Converted: /Users/domenicodemarchis/Desktop/IAARTS/classifier/datasets/raycarterrete/musdb18-stem-division-vocals-and-instrumentals/versions/1/stem_files/The So So Glos - Emergency.stem_vocals.mp4 -> /Users/domenicodemarchis/Desktop/IAARTS/classifier/datasets/music_set_wav/vocals/The So So Glos - Emergency.stem_vocals.wav\n",
      "Converted: /Users/domenicodemarchis/Desktop/IAARTS/classifier/datasets/raycarterrete/musdb18-stem-division-vocals-and-instrumentals/versions/1/stem_files/Swinging Steaks - Lost My Way.stem_vocals.mp4 -> /Users/domenicodemarchis/Desktop/IAARTS/classifier/datasets/music_set_wav/vocals/Swinging Steaks - Lost My Way.stem_vocals.wav\n",
      "Converted: /Users/domenicodemarchis/Desktop/IAARTS/classifier/datasets/raycarterrete/musdb18-stem-division-vocals-and-instrumentals/versions/1/stem_files/Actions - Devils Words.stem_instrumental.mp4 -> /Users/domenicodemarchis/Desktop/IAARTS/classifier/datasets/music_set_wav/instrumentals/Actions - Devils Words.stem_instrumental.wav\n",
      "Converted: /Users/domenicodemarchis/Desktop/IAARTS/classifier/datasets/raycarterrete/musdb18-stem-division-vocals-and-instrumentals/versions/1/stem_files/Music Delta - Reggae.stem_vocals.mp4 -> /Users/domenicodemarchis/Desktop/IAARTS/classifier/datasets/music_set_wav/vocals/Music Delta - Reggae.stem_vocals.wav\n",
      "Converted: /Users/domenicodemarchis/Desktop/IAARTS/classifier/datasets/raycarterrete/musdb18-stem-division-vocals-and-instrumentals/versions/1/stem_files/Skelpolu - Together Alone.stem_vocals.mp4 -> /Users/domenicodemarchis/Desktop/IAARTS/classifier/datasets/music_set_wav/vocals/Skelpolu - Together Alone.stem_vocals.wav\n",
      "Converted: /Users/domenicodemarchis/Desktop/IAARTS/classifier/datasets/raycarterrete/musdb18-stem-division-vocals-and-instrumentals/versions/1/stem_files/Hezekiah Jones - Borrowed Heart.stem_vocals.mp4 -> /Users/domenicodemarchis/Desktop/IAARTS/classifier/datasets/music_set_wav/vocals/Hezekiah Jones - Borrowed Heart.stem_vocals.wav\n",
      "Converted: /Users/domenicodemarchis/Desktop/IAARTS/classifier/datasets/raycarterrete/musdb18-stem-division-vocals-and-instrumentals/versions/1/stem_files/Music Delta - Country2.stem_vocals.mp4 -> /Users/domenicodemarchis/Desktop/IAARTS/classifier/datasets/music_set_wav/vocals/Music Delta - Country2.stem_vocals.wav\n",
      "Converted: /Users/domenicodemarchis/Desktop/IAARTS/classifier/datasets/raycarterrete/musdb18-stem-division-vocals-and-instrumentals/versions/1/stem_files/Music Delta - Rock.stem_vocals.mp4 -> /Users/domenicodemarchis/Desktop/IAARTS/classifier/datasets/music_set_wav/vocals/Music Delta - Rock.stem_vocals.wav\n",
      "Converted: /Users/domenicodemarchis/Desktop/IAARTS/classifier/datasets/raycarterrete/musdb18-stem-division-vocals-and-instrumentals/versions/1/stem_files/Celestial Shore - Die For Us.stem_instrumental.mp4 -> /Users/domenicodemarchis/Desktop/IAARTS/classifier/datasets/music_set_wav/instrumentals/Celestial Shore - Die For Us.stem_instrumental.wav\n",
      "Converted: /Users/domenicodemarchis/Desktop/IAARTS/classifier/datasets/raycarterrete/musdb18-stem-division-vocals-and-instrumentals/versions/1/stem_files/Alexander Ross - Velvet Curtain.stem_instrumental.mp4 -> /Users/domenicodemarchis/Desktop/IAARTS/classifier/datasets/music_set_wav/instrumentals/Alexander Ross - Velvet Curtain.stem_instrumental.wav\n",
      "Converted: /Users/domenicodemarchis/Desktop/IAARTS/classifier/datasets/raycarterrete/musdb18-stem-division-vocals-and-instrumentals/versions/1/stem_files/Chris Durban - Celebrate.stem_vocals.mp4 -> /Users/domenicodemarchis/Desktop/IAARTS/classifier/datasets/music_set_wav/vocals/Chris Durban - Celebrate.stem_vocals.wav\n",
      "Converted: /Users/domenicodemarchis/Desktop/IAARTS/classifier/datasets/raycarterrete/musdb18-stem-division-vocals-and-instrumentals/versions/1/stem_files/BigTroubles - Phantom.stem_instrumental.mp4 -> /Users/domenicodemarchis/Desktop/IAARTS/classifier/datasets/music_set_wav/instrumentals/BigTroubles - Phantom.stem_instrumental.wav\n",
      "Converted: /Users/domenicodemarchis/Desktop/IAARTS/classifier/datasets/raycarterrete/musdb18-stem-division-vocals-and-instrumentals/versions/1/stem_files/The WrongUns - Rothko.stem_instrumental.mp4 -> /Users/domenicodemarchis/Desktop/IAARTS/classifier/datasets/music_set_wav/instrumentals/The WrongUns - Rothko.stem_instrumental.wav\n",
      "Converted: /Users/domenicodemarchis/Desktop/IAARTS/classifier/datasets/raycarterrete/musdb18-stem-division-vocals-and-instrumentals/versions/1/stem_files/Music Delta - 80s Rock.stem_instrumental.mp4 -> /Users/domenicodemarchis/Desktop/IAARTS/classifier/datasets/music_set_wav/instrumentals/Music Delta - 80s Rock.stem_instrumental.wav\n",
      "Converted: /Users/domenicodemarchis/Desktop/IAARTS/classifier/datasets/raycarterrete/musdb18-stem-division-vocals-and-instrumentals/versions/1/stem_files/ANiMAL - Rockshow.stem_instrumental.mp4 -> /Users/domenicodemarchis/Desktop/IAARTS/classifier/datasets/music_set_wav/instrumentals/ANiMAL - Rockshow.stem_instrumental.wav\n",
      "Converted: /Users/domenicodemarchis/Desktop/IAARTS/classifier/datasets/raycarterrete/musdb18-stem-division-vocals-and-instrumentals/versions/1/stem_files/Actions - One Minute Smile.stem_vocals.mp4 -> /Users/domenicodemarchis/Desktop/IAARTS/classifier/datasets/music_set_wav/vocals/Actions - One Minute Smile.stem_vocals.wav\n",
      "Converted: /Users/domenicodemarchis/Desktop/IAARTS/classifier/datasets/raycarterrete/musdb18-stem-division-vocals-and-instrumentals/versions/1/stem_files/Skelpolu - Human Mistakes.stem_vocals.mp4 -> /Users/domenicodemarchis/Desktop/IAARTS/classifier/datasets/music_set_wav/vocals/Skelpolu - Human Mistakes.stem_vocals.wav\n",
      "Converted: /Users/domenicodemarchis/Desktop/IAARTS/classifier/datasets/raycarterrete/musdb18-stem-division-vocals-and-instrumentals/versions/1/stem_files/Aimee Norwich - Child.stem_instrumental.mp4 -> /Users/domenicodemarchis/Desktop/IAARTS/classifier/datasets/music_set_wav/instrumentals/Aimee Norwich - Child.stem_instrumental.wav\n",
      "Converted: /Users/domenicodemarchis/Desktop/IAARTS/classifier/datasets/raycarterrete/musdb18-stem-division-vocals-and-instrumentals/versions/1/stem_files/Alexander Ross - Goodbye Bolero.stem_instrumental.mp4 -> /Users/domenicodemarchis/Desktop/IAARTS/classifier/datasets/music_set_wav/instrumentals/Alexander Ross - Goodbye Bolero.stem_instrumental.wav\n",
      "Converted: /Users/domenicodemarchis/Desktop/IAARTS/classifier/datasets/raycarterrete/musdb18-stem-division-vocals-and-instrumentals/versions/1/stem_files/Dreamers Of The Ghetto - Heavy Love.stem_vocals.mp4 -> /Users/domenicodemarchis/Desktop/IAARTS/classifier/datasets/music_set_wav/vocals/Dreamers Of The Ghetto - Heavy Love.stem_vocals.wav\n",
      "Converted: /Users/domenicodemarchis/Desktop/IAARTS/classifier/datasets/raycarterrete/musdb18-stem-division-vocals-and-instrumentals/versions/1/stem_files/Atlantis Bound - It Was My Fault For Waiting.stem_instrumental.mp4 -> /Users/domenicodemarchis/Desktop/IAARTS/classifier/datasets/music_set_wav/instrumentals/Atlantis Bound - It Was My Fault For Waiting.stem_instrumental.wav\n",
      "Converted: /Users/domenicodemarchis/Desktop/IAARTS/classifier/datasets/raycarterrete/musdb18-stem-division-vocals-and-instrumentals/versions/1/stem_files/Patrick Talbot - Set Me Free.stem_vocals.mp4 -> /Users/domenicodemarchis/Desktop/IAARTS/classifier/datasets/music_set_wav/vocals/Patrick Talbot - Set Me Free.stem_vocals.wav\n",
      "Converted: /Users/domenicodemarchis/Desktop/IAARTS/classifier/datasets/raycarterrete/musdb18-stem-division-vocals-and-instrumentals/versions/1/stem_files/Triviul - Dorothy.stem_instrumental.mp4 -> /Users/domenicodemarchis/Desktop/IAARTS/classifier/datasets/music_set_wav/instrumentals/Triviul - Dorothy.stem_instrumental.wav\n",
      "Converted: /Users/domenicodemarchis/Desktop/IAARTS/classifier/datasets/raycarterrete/musdb18-stem-division-vocals-and-instrumentals/versions/1/stem_files/Fergessen - Nos Palpitants.stem_vocals.mp4 -> /Users/domenicodemarchis/Desktop/IAARTS/classifier/datasets/music_set_wav/vocals/Fergessen - Nos Palpitants.stem_vocals.wav\n",
      "Converted: /Users/domenicodemarchis/Desktop/IAARTS/classifier/datasets/raycarterrete/musdb18-stem-division-vocals-and-instrumentals/versions/1/stem_files/James May - Dont Let Go.stem_vocals.mp4 -> /Users/domenicodemarchis/Desktop/IAARTS/classifier/datasets/music_set_wav/vocals/James May - Dont Let Go.stem_vocals.wav\n",
      "Converted: /Users/domenicodemarchis/Desktop/IAARTS/classifier/datasets/raycarterrete/musdb18-stem-division-vocals-and-instrumentals/versions/1/stem_files/Invisible Familiars - Disturbing Wildlife.stem_instrumental.mp4 -> /Users/domenicodemarchis/Desktop/IAARTS/classifier/datasets/music_set_wav/instrumentals/Invisible Familiars - Disturbing Wildlife.stem_instrumental.wav\n",
      "Converted: /Users/domenicodemarchis/Desktop/IAARTS/classifier/datasets/raycarterrete/musdb18-stem-division-vocals-and-instrumentals/versions/1/stem_files/Music Delta - Hendrix.stem_vocals.mp4 -> /Users/domenicodemarchis/Desktop/IAARTS/classifier/datasets/music_set_wav/vocals/Music Delta - Hendrix.stem_vocals.wav\n",
      "Converted: /Users/domenicodemarchis/Desktop/IAARTS/classifier/datasets/raycarterrete/musdb18-stem-division-vocals-and-instrumentals/versions/1/stem_files/Drumtracks - Ghost Bitch.stem_vocals.mp4 -> /Users/domenicodemarchis/Desktop/IAARTS/classifier/datasets/music_set_wav/vocals/Drumtracks - Ghost Bitch.stem_vocals.wav\n",
      "Converted: /Users/domenicodemarchis/Desktop/IAARTS/classifier/datasets/raycarterrete/musdb18-stem-division-vocals-and-instrumentals/versions/1/stem_files/Actions - South Of The Water.stem_vocals.mp4 -> /Users/domenicodemarchis/Desktop/IAARTS/classifier/datasets/music_set_wav/vocals/Actions - South Of The Water.stem_vocals.wav\n",
      "Converted: /Users/domenicodemarchis/Desktop/IAARTS/classifier/datasets/raycarterrete/musdb18-stem-division-vocals-and-instrumentals/versions/1/stem_files/Voelund - Comfort Lives In Belief.stem_vocals.mp4 -> /Users/domenicodemarchis/Desktop/IAARTS/classifier/datasets/music_set_wav/vocals/Voelund - Comfort Lives In Belief.stem_vocals.wav\n",
      "Converted: /Users/domenicodemarchis/Desktop/IAARTS/classifier/datasets/raycarterrete/musdb18-stem-division-vocals-and-instrumentals/versions/1/stem_files/Young Griffo - Pennies.stem_vocals.mp4 -> /Users/domenicodemarchis/Desktop/IAARTS/classifier/datasets/music_set_wav/vocals/Young Griffo - Pennies.stem_vocals.wav\n",
      "Converted: /Users/domenicodemarchis/Desktop/IAARTS/classifier/datasets/raycarterrete/musdb18-stem-division-vocals-and-instrumentals/versions/1/stem_files/North To Alaska - All The Same.stem_instrumental.mp4 -> /Users/domenicodemarchis/Desktop/IAARTS/classifier/datasets/music_set_wav/instrumentals/North To Alaska - All The Same.stem_instrumental.wav\n",
      "Converted: /Users/domenicodemarchis/Desktop/IAARTS/classifier/datasets/raycarterrete/musdb18-stem-division-vocals-and-instrumentals/versions/1/stem_files/Dark Ride - Burning Bridges.stem_instrumental.mp4 -> /Users/domenicodemarchis/Desktop/IAARTS/classifier/datasets/music_set_wav/instrumentals/Dark Ride - Burning Bridges.stem_instrumental.wav\n",
      "Converted: /Users/domenicodemarchis/Desktop/IAARTS/classifier/datasets/raycarterrete/musdb18-stem-division-vocals-and-instrumentals/versions/1/stem_files/Port St Willow - Stay Even.stem_vocals.mp4 -> /Users/domenicodemarchis/Desktop/IAARTS/classifier/datasets/music_set_wav/vocals/Port St Willow - Stay Even.stem_vocals.wav\n",
      "Converted: /Users/domenicodemarchis/Desktop/IAARTS/classifier/datasets/raycarterrete/musdb18-stem-division-vocals-and-instrumentals/versions/1/stem_files/ANiMAL - Clinic A.stem_vocals.mp4 -> /Users/domenicodemarchis/Desktop/IAARTS/classifier/datasets/music_set_wav/vocals/ANiMAL - Clinic A.stem_vocals.wav\n",
      "Converted: /Users/domenicodemarchis/Desktop/IAARTS/classifier/datasets/raycarterrete/musdb18-stem-division-vocals-and-instrumentals/versions/1/stem_files/Snowmine - Curfews.stem_instrumental.mp4 -> /Users/domenicodemarchis/Desktop/IAARTS/classifier/datasets/music_set_wav/instrumentals/Snowmine - Curfews.stem_instrumental.wav\n",
      "Converted: /Users/domenicodemarchis/Desktop/IAARTS/classifier/datasets/raycarterrete/musdb18-stem-division-vocals-and-instrumentals/versions/1/stem_files/Helado Negro - Mitad Del Mundo.stem_instrumental.mp4 -> /Users/domenicodemarchis/Desktop/IAARTS/classifier/datasets/music_set_wav/instrumentals/Helado Negro - Mitad Del Mundo.stem_instrumental.wav\n",
      "Converted: /Users/domenicodemarchis/Desktop/IAARTS/classifier/datasets/raycarterrete/musdb18-stem-division-vocals-and-instrumentals/versions/1/stem_files/Actions - South Of The Water.stem_instrumental.mp4 -> /Users/domenicodemarchis/Desktop/IAARTS/classifier/datasets/music_set_wav/instrumentals/Actions - South Of The Water.stem_instrumental.wav\n",
      "Converted: /Users/domenicodemarchis/Desktop/IAARTS/classifier/datasets/raycarterrete/musdb18-stem-division-vocals-and-instrumentals/versions/1/stem_files/Triviul - Angelsaint.stem_instrumental.mp4 -> /Users/domenicodemarchis/Desktop/IAARTS/classifier/datasets/music_set_wav/instrumentals/Triviul - Angelsaint.stem_instrumental.wav\n",
      "Converted: /Users/domenicodemarchis/Desktop/IAARTS/classifier/datasets/raycarterrete/musdb18-stem-division-vocals-and-instrumentals/versions/1/stem_files/St Vitus - Word Gets Around.stem_vocals.mp4 -> /Users/domenicodemarchis/Desktop/IAARTS/classifier/datasets/music_set_wav/vocals/St Vitus - Word Gets Around.stem_vocals.wav\n",
      "Converted: /Users/domenicodemarchis/Desktop/IAARTS/classifier/datasets/raycarterrete/musdb18-stem-division-vocals-and-instrumentals/versions/1/stem_files/Traffic Experiment - Sirens.stem_vocals.mp4 -> /Users/domenicodemarchis/Desktop/IAARTS/classifier/datasets/music_set_wav/vocals/Traffic Experiment - Sirens.stem_vocals.wav\n",
      "Converted: /Users/domenicodemarchis/Desktop/IAARTS/classifier/datasets/raycarterrete/musdb18-stem-division-vocals-and-instrumentals/versions/1/stem_files/The Scarlet Brand - Les Fleurs Du Mal.stem_vocals.mp4 -> /Users/domenicodemarchis/Desktop/IAARTS/classifier/datasets/music_set_wav/vocals/The Scarlet Brand - Les Fleurs Du Mal.stem_vocals.wav\n",
      "Converted: /Users/domenicodemarchis/Desktop/IAARTS/classifier/datasets/raycarterrete/musdb18-stem-division-vocals-and-instrumentals/versions/1/stem_files/Grants - PunchDrunk.stem_instrumental.mp4 -> /Users/domenicodemarchis/Desktop/IAARTS/classifier/datasets/music_set_wav/instrumentals/Grants - PunchDrunk.stem_instrumental.wav\n",
      "Converted: /Users/domenicodemarchis/Desktop/IAARTS/classifier/datasets/raycarterrete/musdb18-stem-division-vocals-and-instrumentals/versions/1/stem_files/Titanium - Haunted Age.stem_vocals.mp4 -> /Users/domenicodemarchis/Desktop/IAARTS/classifier/datasets/music_set_wav/vocals/Titanium - Haunted Age.stem_vocals.wav\n",
      "Converted: /Users/domenicodemarchis/Desktop/IAARTS/classifier/datasets/raycarterrete/musdb18-stem-division-vocals-and-instrumentals/versions/1/stem_files/Leaf - Come Around.stem_vocals.mp4 -> /Users/domenicodemarchis/Desktop/IAARTS/classifier/datasets/music_set_wav/vocals/Leaf - Come Around.stem_vocals.wav\n",
      "Converted: /Users/domenicodemarchis/Desktop/IAARTS/classifier/datasets/raycarterrete/musdb18-stem-division-vocals-and-instrumentals/versions/1/stem_files/The So So Glos - Emergency.stem_instrumental.mp4 -> /Users/domenicodemarchis/Desktop/IAARTS/classifier/datasets/music_set_wav/instrumentals/The So So Glos - Emergency.stem_instrumental.wav\n",
      "Converted: /Users/domenicodemarchis/Desktop/IAARTS/classifier/datasets/raycarterrete/musdb18-stem-division-vocals-and-instrumentals/versions/1/stem_files/Hop Along - Sister Cities.stem_instrumental.mp4 -> /Users/domenicodemarchis/Desktop/IAARTS/classifier/datasets/music_set_wav/instrumentals/Hop Along - Sister Cities.stem_instrumental.wav\n",
      "Converted: /Users/domenicodemarchis/Desktop/IAARTS/classifier/datasets/raycarterrete/musdb18-stem-division-vocals-and-instrumentals/versions/1/stem_files/Music Delta - Beatles.stem_instrumental.mp4 -> /Users/domenicodemarchis/Desktop/IAARTS/classifier/datasets/music_set_wav/instrumentals/Music Delta - Beatles.stem_instrumental.wav\n",
      "Converted: /Users/domenicodemarchis/Desktop/IAARTS/classifier/datasets/raycarterrete/musdb18-stem-division-vocals-and-instrumentals/versions/1/stem_files/Fergessen - Back From The Start.stem_instrumental.mp4 -> /Users/domenicodemarchis/Desktop/IAARTS/classifier/datasets/music_set_wav/instrumentals/Fergessen - Back From The Start.stem_instrumental.wav\n",
      "Converted: /Users/domenicodemarchis/Desktop/IAARTS/classifier/datasets/raycarterrete/musdb18-stem-division-vocals-and-instrumentals/versions/1/stem_files/Snowmine - Curfews.stem_vocals.mp4 -> /Users/domenicodemarchis/Desktop/IAARTS/classifier/datasets/music_set_wav/vocals/Snowmine - Curfews.stem_vocals.wav\n",
      "Converted: /Users/domenicodemarchis/Desktop/IAARTS/classifier/datasets/raycarterrete/musdb18-stem-division-vocals-and-instrumentals/versions/1/stem_files/Lushlife - Toynbee Suite.stem_vocals.mp4 -> /Users/domenicodemarchis/Desktop/IAARTS/classifier/datasets/music_set_wav/vocals/Lushlife - Toynbee Suite.stem_vocals.wav\n",
      "Converted: /Users/domenicodemarchis/Desktop/IAARTS/classifier/datasets/raycarterrete/musdb18-stem-division-vocals-and-instrumentals/versions/1/stem_files/Young Griffo - Facade.stem_vocals.mp4 -> /Users/domenicodemarchis/Desktop/IAARTS/classifier/datasets/music_set_wav/vocals/Young Griffo - Facade.stem_vocals.wav\n",
      "Converted: /Users/domenicodemarchis/Desktop/IAARTS/classifier/datasets/raycarterrete/musdb18-stem-division-vocals-and-instrumentals/versions/1/stem_files/Wall Of Death - Femme.stem_vocals.mp4 -> /Users/domenicodemarchis/Desktop/IAARTS/classifier/datasets/music_set_wav/vocals/Wall Of Death - Femme.stem_vocals.wav\n",
      "Converted: /Users/domenicodemarchis/Desktop/IAARTS/classifier/datasets/raycarterrete/musdb18-stem-division-vocals-and-instrumentals/versions/1/stem_files/Wall Of Death - Femme.stem_instrumental.mp4 -> /Users/domenicodemarchis/Desktop/IAARTS/classifier/datasets/music_set_wav/instrumentals/Wall Of Death - Femme.stem_instrumental.wav\n",
      "Converted: /Users/domenicodemarchis/Desktop/IAARTS/classifier/datasets/raycarterrete/musdb18-stem-division-vocals-and-instrumentals/versions/1/stem_files/Music Delta - Country2.stem_instrumental.mp4 -> /Users/domenicodemarchis/Desktop/IAARTS/classifier/datasets/music_set_wav/instrumentals/Music Delta - Country2.stem_instrumental.wav\n",
      "Converted: /Users/domenicodemarchis/Desktop/IAARTS/classifier/datasets/raycarterrete/musdb18-stem-division-vocals-and-instrumentals/versions/1/stem_files/Leaf - Wicked.stem_vocals.mp4 -> /Users/domenicodemarchis/Desktop/IAARTS/classifier/datasets/music_set_wav/vocals/Leaf - Wicked.stem_vocals.wav\n",
      "Converted: /Users/domenicodemarchis/Desktop/IAARTS/classifier/datasets/raycarterrete/musdb18-stem-division-vocals-and-instrumentals/versions/1/stem_files/Invisible Familiars - Disturbing Wildlife.stem_vocals.mp4 -> /Users/domenicodemarchis/Desktop/IAARTS/classifier/datasets/music_set_wav/vocals/Invisible Familiars - Disturbing Wildlife.stem_vocals.wav\n",
      "Converted: /Users/domenicodemarchis/Desktop/IAARTS/classifier/datasets/raycarterrete/musdb18-stem-division-vocals-and-instrumentals/versions/1/stem_files/Voelund - Comfort Lives In Belief.stem_instrumental.mp4 -> /Users/domenicodemarchis/Desktop/IAARTS/classifier/datasets/music_set_wav/instrumentals/Voelund - Comfort Lives In Belief.stem_instrumental.wav\n",
      "Converted: /Users/domenicodemarchis/Desktop/IAARTS/classifier/datasets/raycarterrete/musdb18-stem-division-vocals-and-instrumentals/versions/1/stem_files/Music Delta - Rock.stem_instrumental.mp4 -> /Users/domenicodemarchis/Desktop/IAARTS/classifier/datasets/music_set_wav/instrumentals/Music Delta - Rock.stem_instrumental.wav\n",
      "Converted: /Users/domenicodemarchis/Desktop/IAARTS/classifier/datasets/raycarterrete/musdb18-stem-division-vocals-and-instrumentals/versions/1/stem_files/Dreamers Of The Ghetto - Heavy Love.stem_instrumental.mp4 -> /Users/domenicodemarchis/Desktop/IAARTS/classifier/datasets/music_set_wav/instrumentals/Dreamers Of The Ghetto - Heavy Love.stem_instrumental.wav\n",
      "Converted: /Users/domenicodemarchis/Desktop/IAARTS/classifier/datasets/raycarterrete/musdb18-stem-division-vocals-and-instrumentals/versions/1/stem_files/James May - If You Say.stem_vocals.mp4 -> /Users/domenicodemarchis/Desktop/IAARTS/classifier/datasets/music_set_wav/vocals/James May - If You Say.stem_vocals.wav\n",
      "Converted: /Users/domenicodemarchis/Desktop/IAARTS/classifier/datasets/raycarterrete/musdb18-stem-division-vocals-and-instrumentals/versions/1/stem_files/Fergessen - The Wind.stem_instrumental.mp4 -> /Users/domenicodemarchis/Desktop/IAARTS/classifier/datasets/music_set_wav/instrumentals/Fergessen - The Wind.stem_instrumental.wav\n",
      "Converted: /Users/domenicodemarchis/Desktop/IAARTS/classifier/datasets/raycarterrete/musdb18-stem-division-vocals-and-instrumentals/versions/1/stem_files/Hezekiah Jones - Borrowed Heart.stem_instrumental.mp4 -> /Users/domenicodemarchis/Desktop/IAARTS/classifier/datasets/music_set_wav/instrumentals/Hezekiah Jones - Borrowed Heart.stem_instrumental.wav\n",
      "Converted: /Users/domenicodemarchis/Desktop/IAARTS/classifier/datasets/raycarterrete/musdb18-stem-division-vocals-and-instrumentals/versions/1/stem_files/Angela Thomas Wade - Milk Cow Blues.stem_instrumental.mp4 -> /Users/domenicodemarchis/Desktop/IAARTS/classifier/datasets/music_set_wav/instrumentals/Angela Thomas Wade - Milk Cow Blues.stem_instrumental.wav\n",
      "Converted: /Users/domenicodemarchis/Desktop/IAARTS/classifier/datasets/raycarterrete/musdb18-stem-division-vocals-and-instrumentals/versions/1/stem_files/Music Delta - Grunge.stem_instrumental.mp4 -> /Users/domenicodemarchis/Desktop/IAARTS/classifier/datasets/music_set_wav/instrumentals/Music Delta - Grunge.stem_instrumental.wav\n",
      "Converted: /Users/domenicodemarchis/Desktop/IAARTS/classifier/datasets/raycarterrete/musdb18-stem-division-vocals-and-instrumentals/versions/1/stem_files/Music Delta - Punk.stem_vocals.mp4 -> /Users/domenicodemarchis/Desktop/IAARTS/classifier/datasets/music_set_wav/vocals/Music Delta - Punk.stem_vocals.wav\n",
      "Converted: /Users/domenicodemarchis/Desktop/IAARTS/classifier/datasets/raycarterrete/musdb18-stem-division-vocals-and-instrumentals/versions/1/stem_files/Music Delta - Grunge.stem_vocals.mp4 -> /Users/domenicodemarchis/Desktop/IAARTS/classifier/datasets/music_set_wav/vocals/Music Delta - Grunge.stem_vocals.wav\n",
      "Converted: /Users/domenicodemarchis/Desktop/IAARTS/classifier/datasets/raycarterrete/musdb18-stem-division-vocals-and-instrumentals/versions/1/stem_files/ANiMAL - Clinic A.stem_instrumental.mp4 -> /Users/domenicodemarchis/Desktop/IAARTS/classifier/datasets/music_set_wav/instrumentals/ANiMAL - Clinic A.stem_instrumental.wav\n",
      "Converted: /Users/domenicodemarchis/Desktop/IAARTS/classifier/datasets/raycarterrete/musdb18-stem-division-vocals-and-instrumentals/versions/1/stem_files/Angela Thomas Wade - Milk Cow Blues.stem_vocals.mp4 -> /Users/domenicodemarchis/Desktop/IAARTS/classifier/datasets/music_set_wav/vocals/Angela Thomas Wade - Milk Cow Blues.stem_vocals.wav\n",
      "Converted: /Users/domenicodemarchis/Desktop/IAARTS/classifier/datasets/raycarterrete/musdb18-stem-division-vocals-and-instrumentals/versions/1/stem_files/ANiMAL - Easy Tiger.stem_instrumental.mp4 -> /Users/domenicodemarchis/Desktop/IAARTS/classifier/datasets/music_set_wav/instrumentals/ANiMAL - Easy Tiger.stem_instrumental.wav\n",
      "Converted: /Users/domenicodemarchis/Desktop/IAARTS/classifier/datasets/raycarterrete/musdb18-stem-division-vocals-and-instrumentals/versions/1/stem_files/Clara Berry And Wooldog - Waltz For My Victims.stem_vocals.mp4 -> /Users/domenicodemarchis/Desktop/IAARTS/classifier/datasets/music_set_wav/vocals/Clara Berry And Wooldog - Waltz For My Victims.stem_vocals.wav\n",
      "Converted: /Users/domenicodemarchis/Desktop/IAARTS/classifier/datasets/raycarterrete/musdb18-stem-division-vocals-and-instrumentals/versions/1/stem_files/Patrick Talbot - Set Me Free.stem_instrumental.mp4 -> /Users/domenicodemarchis/Desktop/IAARTS/classifier/datasets/music_set_wav/instrumentals/Patrick Talbot - Set Me Free.stem_instrumental.wav\n",
      "Converted: /Users/domenicodemarchis/Desktop/IAARTS/classifier/datasets/raycarterrete/musdb18-stem-division-vocals-and-instrumentals/versions/1/stem_files/Auctioneer - Our Future Faces.stem_instrumental.mp4 -> /Users/domenicodemarchis/Desktop/IAARTS/classifier/datasets/music_set_wav/instrumentals/Auctioneer - Our Future Faces.stem_instrumental.wav\n",
      "Converted: /Users/domenicodemarchis/Desktop/IAARTS/classifier/datasets/raycarterrete/musdb18-stem-division-vocals-and-instrumentals/versions/1/stem_files/Music Delta - Reggae.stem_instrumental.mp4 -> /Users/domenicodemarchis/Desktop/IAARTS/classifier/datasets/music_set_wav/instrumentals/Music Delta - Reggae.stem_instrumental.wav\n",
      "Converted: /Users/domenicodemarchis/Desktop/IAARTS/classifier/datasets/raycarterrete/musdb18-stem-division-vocals-and-instrumentals/versions/1/stem_files/James May - Dont Let Go.stem_instrumental.mp4 -> /Users/domenicodemarchis/Desktop/IAARTS/classifier/datasets/music_set_wav/instrumentals/James May - Dont Let Go.stem_instrumental.wav\n",
      "Converted: /Users/domenicodemarchis/Desktop/IAARTS/classifier/datasets/raycarterrete/musdb18-stem-division-vocals-and-instrumentals/versions/1/stem_files/The Scarlet Brand - Les Fleurs Du Mal.stem_instrumental.mp4 -> /Users/domenicodemarchis/Desktop/IAARTS/classifier/datasets/music_set_wav/instrumentals/The Scarlet Brand - Les Fleurs Du Mal.stem_instrumental.wav\n",
      "Converted: /Users/domenicodemarchis/Desktop/IAARTS/classifier/datasets/raycarterrete/musdb18-stem-division-vocals-and-instrumentals/versions/1/stem_files/Spike Mullings - Mikes Sulking.stem_vocals.mp4 -> /Users/domenicodemarchis/Desktop/IAARTS/classifier/datasets/music_set_wav/vocals/Spike Mullings - Mikes Sulking.stem_vocals.wav\n",
      "Converted: /Users/domenicodemarchis/Desktop/IAARTS/classifier/datasets/raycarterrete/musdb18-stem-division-vocals-and-instrumentals/versions/1/stem_files/Patrick Talbot - A Reason To Leave.stem_vocals.mp4 -> /Users/domenicodemarchis/Desktop/IAARTS/classifier/datasets/music_set_wav/vocals/Patrick Talbot - A Reason To Leave.stem_vocals.wav\n",
      "Converted: /Users/domenicodemarchis/Desktop/IAARTS/classifier/datasets/raycarterrete/musdb18-stem-division-vocals-and-instrumentals/versions/1/stem_files/Helado Negro - Mitad Del Mundo.stem_vocals.mp4 -> /Users/domenicodemarchis/Desktop/IAARTS/classifier/datasets/music_set_wav/vocals/Helado Negro - Mitad Del Mundo.stem_vocals.wav\n",
      "Converted: /Users/domenicodemarchis/Desktop/IAARTS/classifier/datasets/raycarterrete/musdb18-stem-division-vocals-and-instrumentals/versions/1/stem_files/Leaf - Summerghost.stem_instrumental.mp4 -> /Users/domenicodemarchis/Desktop/IAARTS/classifier/datasets/music_set_wav/instrumentals/Leaf - Summerghost.stem_instrumental.wav\n",
      "Converted: /Users/domenicodemarchis/Desktop/IAARTS/classifier/datasets/raycarterrete/musdb18-stem-division-vocals-and-instrumentals/versions/1/stem_files/Skelpolu - Together Alone.stem_instrumental.mp4 -> /Users/domenicodemarchis/Desktop/IAARTS/classifier/datasets/music_set_wav/instrumentals/Skelpolu - Together Alone.stem_instrumental.wav\n",
      "Converted: /Users/domenicodemarchis/Desktop/IAARTS/classifier/datasets/raycarterrete/musdb18-stem-division-vocals-and-instrumentals/versions/1/stem_files/Giselle - Moss.stem_instrumental.mp4 -> /Users/domenicodemarchis/Desktop/IAARTS/classifier/datasets/music_set_wav/instrumentals/Giselle - Moss.stem_instrumental.wav\n",
      "Converted: /Users/domenicodemarchis/Desktop/IAARTS/classifier/datasets/raycarterrete/musdb18-stem-division-vocals-and-instrumentals/versions/1/stem_files/Johnny Lokke - Whisper To A Scream.stem_instrumental.mp4 -> /Users/domenicodemarchis/Desktop/IAARTS/classifier/datasets/music_set_wav/instrumentals/Johnny Lokke - Whisper To A Scream.stem_instrumental.wav\n",
      "Converted: /Users/domenicodemarchis/Desktop/IAARTS/classifier/datasets/raycarterrete/musdb18-stem-division-vocals-and-instrumentals/versions/1/stem_files/Matthew Entwistle - Dont You Ever.stem_vocals.mp4 -> /Users/domenicodemarchis/Desktop/IAARTS/classifier/datasets/music_set_wav/vocals/Matthew Entwistle - Dont You Ever.stem_vocals.wav\n",
      "Converted: /Users/domenicodemarchis/Desktop/IAARTS/classifier/datasets/raycarterrete/musdb18-stem-division-vocals-and-instrumentals/versions/1/stem_files/Meaxic - You Listen.stem_instrumental.mp4 -> /Users/domenicodemarchis/Desktop/IAARTS/classifier/datasets/music_set_wav/instrumentals/Meaxic - You Listen.stem_instrumental.wav\n",
      "Converted: /Users/domenicodemarchis/Desktop/IAARTS/classifier/datasets/raycarterrete/musdb18-stem-division-vocals-and-instrumentals/versions/1/stem_files/Port St Willow - Stay Even.stem_instrumental.mp4 -> /Users/domenicodemarchis/Desktop/IAARTS/classifier/datasets/music_set_wav/instrumentals/Port St Willow - Stay Even.stem_instrumental.wav\n",
      "Converted: /Users/domenicodemarchis/Desktop/IAARTS/classifier/datasets/raycarterrete/musdb18-stem-division-vocals-and-instrumentals/versions/1/stem_files/Tim Taler - Stalker.stem_vocals.mp4 -> /Users/domenicodemarchis/Desktop/IAARTS/classifier/datasets/music_set_wav/vocals/Tim Taler - Stalker.stem_vocals.wav\n",
      "Converted: /Users/domenicodemarchis/Desktop/IAARTS/classifier/datasets/raycarterrete/musdb18-stem-division-vocals-and-instrumentals/versions/1/stem_files/Traffic Experiment - Once More (With Feeling).stem_instrumental.mp4 -> /Users/domenicodemarchis/Desktop/IAARTS/classifier/datasets/music_set_wav/instrumentals/Traffic Experiment - Once More (With Feeling).stem_instrumental.wav\n",
      "Converted: /Users/domenicodemarchis/Desktop/IAARTS/classifier/datasets/raycarterrete/musdb18-stem-division-vocals-and-instrumentals/versions/1/stem_files/Music Delta - Rockabilly.stem_vocals.mp4 -> /Users/domenicodemarchis/Desktop/IAARTS/classifier/datasets/music_set_wav/vocals/Music Delta - Rockabilly.stem_vocals.wav\n",
      "Converted: /Users/domenicodemarchis/Desktop/IAARTS/classifier/datasets/raycarterrete/musdb18-stem-division-vocals-and-instrumentals/versions/1/stem_files/Triviul - Angelsaint.stem_vocals.mp4 -> /Users/domenicodemarchis/Desktop/IAARTS/classifier/datasets/music_set_wav/vocals/Triviul - Angelsaint.stem_vocals.wav\n",
      "Converted: /Users/domenicodemarchis/Desktop/IAARTS/classifier/datasets/raycarterrete/musdb18-stem-division-vocals-and-instrumentals/versions/1/stem_files/Remember December - C U Next Time.stem_instrumental.mp4 -> /Users/domenicodemarchis/Desktop/IAARTS/classifier/datasets/music_set_wav/instrumentals/Remember December - C U Next Time.stem_instrumental.wav\n",
      "Converted: /Users/domenicodemarchis/Desktop/IAARTS/classifier/datasets/raycarterrete/musdb18-stem-division-vocals-and-instrumentals/versions/1/stem_files/Young Griffo - Blood To Bone.stem_vocals.mp4 -> /Users/domenicodemarchis/Desktop/IAARTS/classifier/datasets/music_set_wav/vocals/Young Griffo - Blood To Bone.stem_vocals.wav\n",
      "Converted: /Users/domenicodemarchis/Desktop/IAARTS/classifier/datasets/raycarterrete/musdb18-stem-division-vocals-and-instrumentals/versions/1/stem_files/Hop Along - Sister Cities.stem_vocals.mp4 -> /Users/domenicodemarchis/Desktop/IAARTS/classifier/datasets/music_set_wav/vocals/Hop Along - Sister Cities.stem_vocals.wav\n",
      "Converted: /Users/domenicodemarchis/Desktop/IAARTS/classifier/datasets/raycarterrete/musdb18-stem-division-vocals-and-instrumentals/versions/1/stem_files/Phre The Eon - Everybodys Falling Apart.stem_instrumental.mp4 -> /Users/domenicodemarchis/Desktop/IAARTS/classifier/datasets/music_set_wav/instrumentals/Phre The Eon - Everybodys Falling Apart.stem_instrumental.wav\n",
      "Converted: /Users/domenicodemarchis/Desktop/IAARTS/classifier/datasets/raycarterrete/musdb18-stem-division-vocals-and-instrumentals/versions/1/stem_files/Actions - Devils Words.stem_vocals.mp4 -> /Users/domenicodemarchis/Desktop/IAARTS/classifier/datasets/music_set_wav/vocals/Actions - Devils Words.stem_vocals.wav\n",
      "Converted: /Users/domenicodemarchis/Desktop/IAARTS/classifier/datasets/raycarterrete/musdb18-stem-division-vocals-and-instrumentals/versions/1/stem_files/Clara Berry And Wooldog - Air Traffic.stem_vocals.mp4 -> /Users/domenicodemarchis/Desktop/IAARTS/classifier/datasets/music_set_wav/vocals/Clara Berry And Wooldog - Air Traffic.stem_vocals.wav\n",
      "Converted: /Users/domenicodemarchis/Desktop/IAARTS/classifier/datasets/raycarterrete/musdb18-stem-division-vocals-and-instrumentals/versions/1/stem_files/Creepoid - OldTree.stem_vocals.mp4 -> /Users/domenicodemarchis/Desktop/IAARTS/classifier/datasets/music_set_wav/vocals/Creepoid - OldTree.stem_vocals.wav\n",
      "Converted: /Users/domenicodemarchis/Desktop/IAARTS/classifier/datasets/raycarterrete/musdb18-stem-division-vocals-and-instrumentals/versions/1/stem_files/Matthew Entwistle - Dont You Ever.stem_instrumental.mp4 -> /Users/domenicodemarchis/Desktop/IAARTS/classifier/datasets/music_set_wav/instrumentals/Matthew Entwistle - Dont You Ever.stem_instrumental.wav\n",
      "Converted: /Users/domenicodemarchis/Desktop/IAARTS/classifier/datasets/raycarterrete/musdb18-stem-division-vocals-and-instrumentals/versions/1/stem_files/Patrick Talbot - A Reason To Leave.stem_instrumental.mp4 -> /Users/domenicodemarchis/Desktop/IAARTS/classifier/datasets/music_set_wav/instrumentals/Patrick Talbot - A Reason To Leave.stem_instrumental.wav\n",
      "Converted: /Users/domenicodemarchis/Desktop/IAARTS/classifier/datasets/raycarterrete/musdb18-stem-division-vocals-and-instrumentals/versions/1/stem_files/ANiMAL - Easy Tiger.stem_vocals.mp4 -> /Users/domenicodemarchis/Desktop/IAARTS/classifier/datasets/music_set_wav/vocals/ANiMAL - Easy Tiger.stem_vocals.wav\n",
      "Converted: /Users/domenicodemarchis/Desktop/IAARTS/classifier/datasets/raycarterrete/musdb18-stem-division-vocals-and-instrumentals/versions/1/stem_files/Traffic Experiment - Sirens.stem_instrumental.mp4 -> /Users/domenicodemarchis/Desktop/IAARTS/classifier/datasets/music_set_wav/instrumentals/Traffic Experiment - Sirens.stem_instrumental.wav\n",
      "Converted: /Users/domenicodemarchis/Desktop/IAARTS/classifier/datasets/raycarterrete/musdb18-stem-division-vocals-and-instrumentals/versions/1/stem_files/Remember December - C U Next Time.stem_vocals.mp4 -> /Users/domenicodemarchis/Desktop/IAARTS/classifier/datasets/music_set_wav/vocals/Remember December - C U Next Time.stem_vocals.wav\n",
      "Converted: /Users/domenicodemarchis/Desktop/IAARTS/classifier/datasets/raycarterrete/musdb18-stem-division-vocals-and-instrumentals/versions/1/stem_files/The Long Wait - Back Home To Blue.stem_vocals.mp4 -> /Users/domenicodemarchis/Desktop/IAARTS/classifier/datasets/music_set_wav/vocals/The Long Wait - Back Home To Blue.stem_vocals.wav\n"
     ]
    }
   ],
   "source": [
    "def convert_file(input_path: str, output_path: str, sample_rate: int = 44100, channels: int = 2):\n",
    "    \n",
    "    audio = AudioSegment.from_file(input_path)\n",
    "\n",
    "    audio = audio.set_frame_rate(sample_rate).set_channels(channels)\n",
    "\n",
    "    audio.export(output_path, format=\"wav\")\n",
    "    print(f\"Converted: {input_path} -> {output_path}\")\n",
    "\n",
    "music_set_path = os.path.abspath(\"datasets/raycarterrete/musdb18-stem-division-vocals-and-instrumentals/versions/1/stem_files\")\n",
    "mp4_files = [f for f in os.listdir(music_set_path)]\n",
    "\n",
    "os.makedirs(\"datasets/music_set_wav\", exist_ok = True)\n",
    "os.makedirs(\"datasets/music_set_wav/instrumentals\", exist_ok=True)\n",
    "os.makedirs(\"datasets/music_set_wav/vocals\", exist_ok=True)\n",
    "\n",
    "target_root_vocals = os.path.abspath(\"datasets/music_set_wav/vocals\")\n",
    "target_root_instrumentals = os.path.abspath(\"datasets/music_set_wav/instrumentals\")\n",
    "\n",
    "for file in mp4_files:\n",
    "    input_path = os.path.join(music_set_path, file)\n",
    "    output_file, _ = os.path.splitext(file)\n",
    "    output_file += '.wav'\n",
    "    \n",
    "    if \"instrumental\" in output_file: target_root = target_root_instrumentals\n",
    "    else: target_root = target_root_vocals\n",
    "    \n",
    "    output_path = os.path.join(target_root, output_file)\n",
    "    \n",
    "    try:\n",
    "        convert_file(input_path, output_path, sample_rate=44100, channels=2)\n",
    "    except Exception as e:\n",
    "        print(f\"Errore nella conversione di {input_path}: {e}\")"
   ]
  },
  {
   "cell_type": "markdown",
   "id": "2403c2b5",
   "metadata": {},
   "source": [
    "# Nota Bene\n",
    "Il dataset 'music_set_wav' convertito contiene instrumental e vocals, per un'applicazione successiva ci serve ricostruire la canzone"
   ]
  },
  {
   "cell_type": "code",
   "execution_count": 25,
   "id": "01b9ac80",
   "metadata": {},
   "outputs": [
    {
     "data": {
      "application/vnd.jupyter.widget-view+json": {
       "model_id": "69e57b2bdaba4ee1a7139c28a01e9a84",
       "version_major": 2,
       "version_minor": 0
      },
      "text/plain": [
       "Reconstructing Songs:   0%|          | 0/93 [00:00<?, ?it/s]"
      ]
     },
     "metadata": {},
     "output_type": "display_data"
    }
   ],
   "source": [
    "import os\n",
    "from pathlib import Path\n",
    "import librosa\n",
    "import numpy as np\n",
    "import soundfile as sf\n",
    "from tqdm.notebook import tqdm\n",
    "\n",
    "vocal_dir        = Path(\"datasets/music_set_wav/vocals\")\n",
    "instrumental_dir = Path(\"datasets/music_set_wav/instrumentals\")\n",
    "output_dir       = Path(\"datasets/music_set_wav/complete_song\")\n",
    "output_dir.mkdir(parents=True, exist_ok=True)\n",
    "\n",
    "def build_map(directory: Path, suffix: str):\n",
    "    m = {}\n",
    "    for p in directory.iterdir():\n",
    "        name = p.name\n",
    "        if name.endswith(suffix):\n",
    "            title = name.removesuffix(suffix)\n",
    "            m[title] = p\n",
    "    return m\n",
    "\n",
    "voc_map  = build_map(vocal_dir,        \".stem_vocals.wav\")\n",
    "inst_map = build_map(instrumental_dir, \".stem_instrumental.wav\")\n",
    "\n",
    "common_titles = sorted(set(voc_map) & set(inst_map))\n",
    "\n",
    "for title in tqdm(common_titles, desc=\"Reconstructing Songs\"):\n",
    "    voc_file  = voc_map[title]\n",
    "    inst_file = inst_map[title]\n",
    "\n",
    "    voc,  sr1 = librosa.load(voc_file,  sr=None, mono=True)\n",
    "    inst, sr2 = librosa.load(inst_file, sr=None, mono=True)\n",
    "    if sr1 != sr2:\n",
    "        print(f\"[WARN] Sample rate mismatch in '{title}': {sr1} vs {sr2}, skipping.\")\n",
    "        continue\n",
    "\n",
    "    min_len = min(len(voc), len(inst))\n",
    "    voc, inst = voc[:min_len], inst[:min_len]\n",
    "\n",
    "    mixed = voc + inst\n",
    "    mixed /= np.max(np.abs(mixed))\n",
    "\n",
    "    out_path = output_dir / f\"{title}.wav\"\n",
    "    sf.write(str(out_path), mixed, sr1, format=\"WAV\")"
   ]
  }
 ],
 "metadata": {
  "kernelspec": {
   "display_name": ".venv",
   "language": "python",
   "name": "python3"
  },
  "language_info": {
   "codemirror_mode": {
    "name": "ipython",
    "version": 3
   },
   "file_extension": ".py",
   "mimetype": "text/x-python",
   "name": "python",
   "nbconvert_exporter": "python",
   "pygments_lexer": "ipython3",
   "version": "3.9.6"
  }
 },
 "nbformat": 4,
 "nbformat_minor": 5
}
